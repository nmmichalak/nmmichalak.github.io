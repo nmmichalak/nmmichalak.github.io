{
 "cells": [
  {
   "cell_type": "markdown",
   "metadata": {},
   "source": [
    "# import packages and/or modules"
   ]
  },
  {
   "cell_type": "code",
   "execution_count": 108,
   "metadata": {},
   "outputs": [],
   "source": [
    "import numpy as np\n",
    "from scipy import stats\n",
    "import pandas as pd\n",
    "import matplotlib.pyplot as plt\n",
    "import seaborn as sns\n",
    "\n",
    "# seaborn look\n",
    "sns.set(palette = \"colorblind\", font_scale = 1.5)"
   ]
  },
  {
   "cell_type": "markdown",
   "metadata": {},
   "source": [
    "# data"
   ]
  },
  {
   "cell_type": "code",
   "execution_count": 109,
   "metadata": {},
   "outputs": [
    {
     "data": {
      "text/html": [
       "<div>\n",
       "<style scoped>\n",
       "    .dataframe tbody tr th:only-of-type {\n",
       "        vertical-align: middle;\n",
       "    }\n",
       "\n",
       "    .dataframe tbody tr th {\n",
       "        vertical-align: top;\n",
       "    }\n",
       "\n",
       "    .dataframe thead th {\n",
       "        text-align: right;\n",
       "    }\n",
       "</style>\n",
       "<table border=\"1\" class=\"dataframe\">\n",
       "  <thead>\n",
       "    <tr style=\"text-align: right;\">\n",
       "      <th></th>\n",
       "      <th>group1</th>\n",
       "      <th>factor1</th>\n",
       "      <th>factor2</th>\n",
       "    </tr>\n",
       "  </thead>\n",
       "  <tbody>\n",
       "    <tr>\n",
       "      <th>0</th>\n",
       "      <td>a</td>\n",
       "      <td>absent</td>\n",
       "      <td>low</td>\n",
       "    </tr>\n",
       "    <tr>\n",
       "      <th>1</th>\n",
       "      <td>a</td>\n",
       "      <td>absent</td>\n",
       "      <td>low</td>\n",
       "    </tr>\n",
       "    <tr>\n",
       "      <th>2</th>\n",
       "      <td>a</td>\n",
       "      <td>absent</td>\n",
       "      <td>low</td>\n",
       "    </tr>\n",
       "    <tr>\n",
       "      <th>3</th>\n",
       "      <td>a</td>\n",
       "      <td>absent</td>\n",
       "      <td>low</td>\n",
       "    </tr>\n",
       "    <tr>\n",
       "      <th>4</th>\n",
       "      <td>a</td>\n",
       "      <td>absent</td>\n",
       "      <td>low</td>\n",
       "    </tr>\n",
       "    <tr>\n",
       "      <th>...</th>\n",
       "      <td>...</td>\n",
       "      <td>...</td>\n",
       "      <td>...</td>\n",
       "    </tr>\n",
       "    <tr>\n",
       "      <th>528</th>\n",
       "      <td>f</td>\n",
       "      <td>present</td>\n",
       "      <td>high</td>\n",
       "    </tr>\n",
       "    <tr>\n",
       "      <th>529</th>\n",
       "      <td>f</td>\n",
       "      <td>present</td>\n",
       "      <td>high</td>\n",
       "    </tr>\n",
       "    <tr>\n",
       "      <th>530</th>\n",
       "      <td>f</td>\n",
       "      <td>present</td>\n",
       "      <td>high</td>\n",
       "    </tr>\n",
       "    <tr>\n",
       "      <th>531</th>\n",
       "      <td>f</td>\n",
       "      <td>present</td>\n",
       "      <td>high</td>\n",
       "    </tr>\n",
       "    <tr>\n",
       "      <th>532</th>\n",
       "      <td>f</td>\n",
       "      <td>present</td>\n",
       "      <td>high</td>\n",
       "    </tr>\n",
       "  </tbody>\n",
       "</table>\n",
       "<p>533 rows × 3 columns</p>\n",
       "</div>"
      ],
      "text/plain": [
       "    group1  factor1 factor2\n",
       "0        a   absent     low\n",
       "1        a   absent     low\n",
       "2        a   absent     low\n",
       "3        a   absent     low\n",
       "4        a   absent     low\n",
       "..     ...      ...     ...\n",
       "528      f  present    high\n",
       "529      f  present    high\n",
       "530      f  present    high\n",
       "531      f  present    high\n",
       "532      f  present    high\n",
       "\n",
       "[533 rows x 3 columns]"
      ]
     },
     "execution_count": 109,
     "metadata": {},
     "output_type": "execute_result"
    }
   ],
   "source": [
    "# group\n",
    "group1 = np.repeat([\"a\", \"b\", \"c\", \"d\", \"e\", \"f\"], repeats = np.random.randint(low = 30, high = 250, size = 6))\n",
    "\n",
    "# break into factors 1 and 2\n",
    "factor1 = [{\"a\": \"absent\", \"b\": \"absent\", \"c\": \"absent\", \"d\": \"present\", \"e\": \"present\", \"f\": \"present\"}[x] for x in group1]\n",
    "factor2 = [{\"a\": \"low\", \"b\": \"moderate\", \"c\": \"high\", \"d\": \"low\", \"e\": \"moderate\", \"f\": \"high\"}[x] for x in group1]\n",
    "\n",
    "# store in data frame\n",
    "df1 = pd.DataFrame({\"group1\": group1, \"factor1\": factor1, \"factor2\": factor2})\n",
    "\n",
    "# see it\n",
    "df1"
   ]
  },
  {
   "cell_type": "markdown",
   "metadata": {},
   "source": [
    "# plot proportions and standard errors"
   ]
  },
  {
   "cell_type": "code",
   "execution_count": 116,
   "metadata": {},
   "outputs": [
    {
     "data": {
      "image/png": "[encoded data removed]",
      "text/plain": [
       "<Figure size 864x432 with 1 Axes>"
      ]
     },
     "metadata": {},
     "output_type": "display_data"
    }
   ],
   "source": [
    "# data\n",
    "df_plot1 = df1.groupby([\"factor1\", \"factor2\"])[\"factor2\"].count().reset_index(name = \"n\").assign(phat = lambda x: x[\"n\"] / x[\"n\"].sum()).assign(se = lambda x: x[\"phat\"] * (1 - x[\"phat\"]) / np.sqrt(x[\"n\"].sum())).assign(moe = lambda x: x[\"se\"] * stats.norm.ppf(1 - 0.05 / 2))\n",
    "\n",
    "# width of bars, default is 0.80, divide by 3 because each bar needs a 1/3 of space alloted by default (3 levels of factor 2)\n",
    "width_bar = 0.80 / 3\n",
    "\n",
    "# figure\n",
    "plt.figure(figsize = (12, 6))\n",
    "\n",
    "# plot\n",
    "## low bars\n",
    "plt.bar(x = np.arange(len(df_plot1[\"factor1\"].unique())), height = df_plot1.loc[df_plot1[\"factor2\"] == \"low\", \"phat\"], width = width_bar, yerr = df_plot1.loc[df_plot1[\"factor2\"] == \"low\", \"moe\"], label = \"low\")\n",
    "\n",
    "## moderate bars\n",
    "plt.bar(x = np.arange(len(df_plot1[\"factor1\"].unique())) + width_bar, height = df_plot1.loc[df_plot1[\"factor2\"] == \"high\", \"phat\"], width = width_bar, yerr = df_plot1.loc[df_plot1[\"factor2\"] == \"moderate\", \"moe\"], label = \"moderate\")\n",
    "\n",
    "## high bars\n",
    "plt.bar(x = np.arange(len(df_plot1[\"factor1\"].unique())) + 2 * width_bar, height = df_plot1.loc[df_plot1[\"factor2\"] == \"high\", \"phat\"], width = width_bar, yerr = df_plot1.loc[df_plot1[\"factor2\"] == \"high\", \"moe\"], label = \"high\")\n",
    "\n",
    "# x ticks and labels, divide by 2 because to levels of factor on x axis\n",
    "plt.gca().set_xticks(np.arange(len(df_plot1[\"factor1\"].unique())) + width_bar / 2)\n",
    "plt.gca().set_xticklabels(df_plot1[\"factor1\"].unique())\n",
    "\n",
    "# title\n",
    "plt.title(\"Proportion ± m.o.e\")\n",
    "\n",
    "# legend\n",
    "plt.legend(title = \"factor2\", loc = \"best\")\n",
    "\n",
    "# tight plot\n",
    "plt.tight_layout()"
   ]
  },
  {
   "cell_type": "code",
   "execution_count": null,
   "metadata": {},
   "outputs": [],
   "source": []
  }
 ],
 "metadata": {
  "kernelspec": {
   "display_name": "Python 3",
   "language": "python",
   "name": "python3"
  },
  "language_info": {
   "codemirror_mode": {
    "name": "ipython",
    "version": 3
   },
   "file_extension": ".py",
   "mimetype": "text/x-python",
   "name": "python",
   "nbconvert_exporter": "python",
   "pygments_lexer": "ipython3",
   "version": "3.7.6"
  },
  "toc": {
   "base_numbering": 1,
   "nav_menu": {},
   "number_sections": true,
   "sideBar": true,
   "skip_h1_title": false,
   "title_cell": "Table of Contents",
   "title_sidebar": "Contents",
   "toc_cell": false,
   "toc_position": {},
   "toc_section_display": true,
   "toc_window_display": true
  },
  "varInspector": {
   "cols": {
    "lenName": 16,
    "lenType": 16,
    "lenVar": 40
   },
   "kernels_config": {
    "python": {
     "delete_cmd_postfix": "",
     "delete_cmd_prefix": "del ",
     "library": "var_list.py",
     "varRefreshCmd": "print(var_dic_list())"
    },
    "r": {
     "delete_cmd_postfix": ") ",
     "delete_cmd_prefix": "rm(",
     "library": "var_list.r",
     "varRefreshCmd": "cat(var_dic_list()) "
    }
   },
   "types_to_exclude": [
    "module",
    "function",
    "builtin_function_or_method",
    "instance",
    "_Feature"
   ],
   "window_display": false
  }
 },
 "nbformat": 4,
 "nbformat_minor": 4
}
