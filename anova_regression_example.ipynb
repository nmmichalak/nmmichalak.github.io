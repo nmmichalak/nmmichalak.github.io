{
 "cells": [
  {
   "cell_type": "markdown",
   "metadata": {
    "toc": true
   },
   "source": [
    "<h1>Table of Contents<span class=\"tocSkip\"></span></h1>\n",
    "<div class=\"toc\"><ul class=\"toc-item\"><li><span><a href=\"#Import-packages-and-modules\" data-toc-modified-id=\"Import-packages-and-modules-1\"><span class=\"toc-item-num\">1&nbsp;&nbsp;</span>Import packages and modules</a></span></li><li><span><a href=\"#Generate-example-dataset\" data-toc-modified-id=\"Generate-example-dataset-2\"><span class=\"toc-item-num\">2&nbsp;&nbsp;</span>Generate example dataset</a></span></li><li><span><a href=\"#Plot-data,-set-expectations\" data-toc-modified-id=\"Plot-data,-set-expectations-3\"><span class=\"toc-item-num\">3&nbsp;&nbsp;</span>Plot data, set expectations</a></span></li><li><span><a href=\"#Models\" data-toc-modified-id=\"Models-4\"><span class=\"toc-item-num\">4&nbsp;&nbsp;</span>Models</a></span><ul class=\"toc-item\"><li><span><a href=\"#eta-squared-function\" data-toc-modified-id=\"eta-squared-function-4.1\"><span class=\"toc-item-num\">4.1&nbsp;&nbsp;</span>eta-squared function</a></span></li><li><span><a href=\"#Dummy-codes\" data-toc-modified-id=\"Dummy-codes-4.2\"><span class=\"toc-item-num\">4.2&nbsp;&nbsp;</span>Dummy codes</a></span><ul class=\"toc-item\"><li><span><a href=\"#Model-matrix-if-you-multiply-dummy-coded-factors\" data-toc-modified-id=\"Model-matrix-if-you-multiply-dummy-coded-factors-4.2.1\"><span class=\"toc-item-num\">4.2.1&nbsp;&nbsp;</span>Model matrix if you multiply dummy-coded factors</a></span></li><li><span><a href=\"#This-coding-scheme-gives-you-two-main-effects-and-an-interaction\" data-toc-modified-id=\"This-coding-scheme-gives-you-two-main-effects-and-an-interaction-4.2.2\"><span class=\"toc-item-num\">4.2.2&nbsp;&nbsp;</span>This coding scheme gives you two main effects and an interaction</a></span></li><li><span><a href=\"#Fit-model\" data-toc-modified-id=\"Fit-model-4.2.3\"><span class=\"toc-item-num\">4.2.3&nbsp;&nbsp;</span>Fit model</a></span></li></ul></li><li><span><a href=\"#Coefficient-estimates-+-other-model-info\" data-toc-modified-id=\"Coefficient-estimates-+-other-model-info-4.3\"><span class=\"toc-item-num\">4.3&nbsp;&nbsp;</span>Coefficient estimates + other model info</a></span><ul class=\"toc-item\"><li><span><a href=\"#ANOVA-source-table\" data-toc-modified-id=\"ANOVA-source-table-4.3.1\"><span class=\"toc-item-num\">4.3.1&nbsp;&nbsp;</span>ANOVA source table</a></span></li></ul></li><li><span><a href=\"#Custom-codes\" data-toc-modified-id=\"Custom-codes-4.4\"><span class=\"toc-item-num\">4.4&nbsp;&nbsp;</span>Custom codes</a></span><ul class=\"toc-item\"><li><span><a href=\"#Fit-model\" data-toc-modified-id=\"Fit-model-4.4.1\"><span class=\"toc-item-num\">4.4.1&nbsp;&nbsp;</span>Fit model</a></span></li></ul></li><li><span><a href=\"#Coefficient-estimates-+-other-model-info\" data-toc-modified-id=\"Coefficient-estimates-+-other-model-info-4.5\"><span class=\"toc-item-num\">4.5&nbsp;&nbsp;</span>Coefficient estimates + other model info</a></span><ul class=\"toc-item\"><li><span><a href=\"#ANOVA-source-table\" data-toc-modified-id=\"ANOVA-source-table-4.5.1\"><span class=\"toc-item-num\">4.5.1&nbsp;&nbsp;</span>ANOVA source table</a></span></li></ul></li><li><span><a href=\"#Custom-codes-using-factor1-and-factor2-variables\" data-toc-modified-id=\"Custom-codes-using-factor1-and-factor2-variables-4.6\"><span class=\"toc-item-num\">4.6&nbsp;&nbsp;</span>Custom codes using factor1 and factor2 variables</a></span><ul class=\"toc-item\"><li><span><a href=\"#Fit-model\" data-toc-modified-id=\"Fit-model-4.6.1\"><span class=\"toc-item-num\">4.6.1&nbsp;&nbsp;</span>Fit model</a></span></li></ul></li><li><span><a href=\"#Coefficient-estimates-+-other-model-info\" data-toc-modified-id=\"Coefficient-estimates-+-other-model-info-4.7\"><span class=\"toc-item-num\">4.7&nbsp;&nbsp;</span>Coefficient estimates + other model info</a></span><ul class=\"toc-item\"><li><span><a href=\"#ANOVA-source-table\" data-toc-modified-id=\"ANOVA-source-table-4.7.1\"><span class=\"toc-item-num\">4.7.1&nbsp;&nbsp;</span>ANOVA source table</a></span></li></ul></li><li><span><a href=\"#Effect-code-main-effects-and-interactions-as-float-predictors\" data-toc-modified-id=\"Effect-code-main-effects-and-interactions-as-float-predictors-4.8\"><span class=\"toc-item-num\">4.8&nbsp;&nbsp;</span>Effect code main effects and interactions as float predictors</a></span></li><li><span><a href=\"#Fit-bayesian-GLM-with-student-t-priors\" data-toc-modified-id=\"Fit-bayesian-GLM-with-student-t-priors-4.9\"><span class=\"toc-item-num\">4.9&nbsp;&nbsp;</span>Fit bayesian GLM with student t priors</a></span><ul class=\"toc-item\"><li><span><a href=\"#Trace-plots\" data-toc-modified-id=\"Trace-plots-4.9.1\"><span class=\"toc-item-num\">4.9.1&nbsp;&nbsp;</span>Trace plots</a></span></li><li><span><a href=\"#Summary-of-results\" data-toc-modified-id=\"Summary-of-results-4.9.2\"><span class=\"toc-item-num\">4.9.2&nbsp;&nbsp;</span>Summary of results</a></span></li><li><span><a href=\"#Linear-regression-results-for-comparison\" data-toc-modified-id=\"Linear-regression-results-for-comparison-4.9.3\"><span class=\"toc-item-num\">4.9.3&nbsp;&nbsp;</span>Linear regression results for comparison</a></span></li><li><span><a href=\"#Compare-sd-in-trace-plots-to-mean-square-residual-in-ANOVA-source-table\" data-toc-modified-id=\"Compare-sd-in-trace-plots-to-mean-square-residual-in-ANOVA-source-table-4.9.4\"><span class=\"toc-item-num\">4.9.4&nbsp;&nbsp;</span>Compare sd in trace plots to mean square residual in ANOVA source table</a></span></li></ul></li></ul></li></ul></div>"
   ]
  },
  {
   "cell_type": "markdown",
   "metadata": {},
   "source": [
    "# Import packages and modules"
   ]
  },
  {
   "cell_type": "code",
   "execution_count": 121,
   "metadata": {},
   "outputs": [],
   "source": [
    "import numpy as np\n",
    "import pandas as pd\n",
    "import matplotlib.pyplot as plt\n",
    "import seaborn as sns\n",
    "import statsmodels.api as sm\n",
    "import statsmodels.formula.api as smf\n",
    "import pymc3\n",
    "import patsy\n",
    "\n",
    "# set seaborn style\n",
    "sns.set(palette = \"colorblind\", font_scale = 2)"
   ]
  },
  {
   "cell_type": "markdown",
   "metadata": {},
   "source": [
    "# Generate example dataset"
   ]
  },
  {
   "cell_type": "code",
   "execution_count": 122,
   "metadata": {},
   "outputs": [
    {
     "data": {
      "text/html": [
       "<div>\n",
       "<style scoped>\n",
       "    .dataframe tbody tr th:only-of-type {\n",
       "        vertical-align: middle;\n",
       "    }\n",
       "\n",
       "    .dataframe tbody tr th {\n",
       "        vertical-align: top;\n",
       "    }\n",
       "\n",
       "    .dataframe thead th {\n",
       "        text-align: right;\n",
       "    }\n",
       "</style>\n",
       "<table border=\"1\" class=\"dataframe\">\n",
       "  <thead>\n",
       "    <tr style=\"text-align: right;\">\n",
       "      <th></th>\n",
       "      <th>subject_id</th>\n",
       "      <th>group</th>\n",
       "      <th>factor1</th>\n",
       "      <th>factor2</th>\n",
       "      <th>y</th>\n",
       "    </tr>\n",
       "  </thead>\n",
       "  <tbody>\n",
       "    <tr>\n",
       "      <th>0</th>\n",
       "      <td>0</td>\n",
       "      <td>1</td>\n",
       "      <td>A</td>\n",
       "      <td>A</td>\n",
       "      <td>4.211297</td>\n",
       "    </tr>\n",
       "    <tr>\n",
       "      <th>1</th>\n",
       "      <td>1</td>\n",
       "      <td>1</td>\n",
       "      <td>A</td>\n",
       "      <td>A</td>\n",
       "      <td>2.879661</td>\n",
       "    </tr>\n",
       "    <tr>\n",
       "      <th>2</th>\n",
       "      <td>2</td>\n",
       "      <td>1</td>\n",
       "      <td>A</td>\n",
       "      <td>A</td>\n",
       "      <td>2.661569</td>\n",
       "    </tr>\n",
       "    <tr>\n",
       "      <th>3</th>\n",
       "      <td>3</td>\n",
       "      <td>1</td>\n",
       "      <td>A</td>\n",
       "      <td>A</td>\n",
       "      <td>3.493066</td>\n",
       "    </tr>\n",
       "    <tr>\n",
       "      <th>4</th>\n",
       "      <td>4</td>\n",
       "      <td>1</td>\n",
       "      <td>A</td>\n",
       "      <td>A</td>\n",
       "      <td>2.394434</td>\n",
       "    </tr>\n",
       "    <tr>\n",
       "      <th>...</th>\n",
       "      <td>...</td>\n",
       "      <td>...</td>\n",
       "      <td>...</td>\n",
       "      <td>...</td>\n",
       "      <td>...</td>\n",
       "    </tr>\n",
       "    <tr>\n",
       "      <th>115</th>\n",
       "      <td>115</td>\n",
       "      <td>4</td>\n",
       "      <td>B</td>\n",
       "      <td>B</td>\n",
       "      <td>3.313894</td>\n",
       "    </tr>\n",
       "    <tr>\n",
       "      <th>116</th>\n",
       "      <td>116</td>\n",
       "      <td>4</td>\n",
       "      <td>B</td>\n",
       "      <td>B</td>\n",
       "      <td>3.754366</td>\n",
       "    </tr>\n",
       "    <tr>\n",
       "      <th>117</th>\n",
       "      <td>117</td>\n",
       "      <td>4</td>\n",
       "      <td>B</td>\n",
       "      <td>B</td>\n",
       "      <td>4.175933</td>\n",
       "    </tr>\n",
       "    <tr>\n",
       "      <th>118</th>\n",
       "      <td>118</td>\n",
       "      <td>4</td>\n",
       "      <td>B</td>\n",
       "      <td>B</td>\n",
       "      <td>2.155325</td>\n",
       "    </tr>\n",
       "    <tr>\n",
       "      <th>119</th>\n",
       "      <td>119</td>\n",
       "      <td>4</td>\n",
       "      <td>B</td>\n",
       "      <td>B</td>\n",
       "      <td>2.227795</td>\n",
       "    </tr>\n",
       "  </tbody>\n",
       "</table>\n",
       "<p>120 rows × 5 columns</p>\n",
       "</div>"
      ],
      "text/plain": [
       "     subject_id  group factor1 factor2         y\n",
       "0             0      1       A       A  4.211297\n",
       "1             1      1       A       A  2.879661\n",
       "2             2      1       A       A  2.661569\n",
       "3             3      1       A       A  3.493066\n",
       "4             4      1       A       A  2.394434\n",
       "..          ...    ...     ...     ...       ...\n",
       "115         115      4       B       B  3.313894\n",
       "116         116      4       B       B  3.754366\n",
       "117         117      4       B       B  4.175933\n",
       "118         118      4       B       B  2.155325\n",
       "119         119      4       B       B  2.227795\n",
       "\n",
       "[120 rows x 5 columns]"
      ]
     },
     "execution_count": 122,
     "metadata": {},
     "output_type": "execute_result"
    }
   ],
   "source": [
    "# id\n",
    "subject_id = list(range(120))\n",
    "\n",
    "# group\n",
    "group = np.repeat([1, 2, 3, 4], [30, 30, 30, 30])\n",
    "\n",
    "# factors\n",
    "factor1 = [{1: \"A\", 2: \"A\", 3: \"B\", 4: \"B\"}[x] for x in group]\n",
    "factor2 = [{1: \"A\", 2: \"B\", 3: \"A\", 4: \"B\"}[x] for x in group]\n",
    "\n",
    "# y\n",
    "y = np.concatenate([np.random.normal(m, s, n) for m, s, n in zip([3, 4, 4, 3], [1, 1, 1, 1], [30, 30, 30, 30])])\n",
    "\n",
    "# store in data frame\n",
    "tutorial_data = pd.DataFrame({\"subject_id\": subject_id, \"group\": group, \"factor1\": factor1, \"factor2\": factor2, \"y\": y})\n",
    "\n",
    "# see it\n",
    "tutorial_data"
   ]
  },
  {
   "cell_type": "markdown",
   "metadata": {},
   "source": [
    "# Plot data, set expectations"
   ]
  },
  {
   "cell_type": "code",
   "execution_count": 123,
   "metadata": {},
   "outputs": [
    {
     "data": {
      "image/png": "[encoded data removed]",
      "text/plain": [
       "<Figure size 864x432 with 1 Axes>"
      ]
     },
     "metadata": {},
     "output_type": "display_data"
    }
   ],
   "source": [
    "# figure\n",
    "plt.figure(figsize = (12, 6))\n",
    "\n",
    "# violin plot\n",
    "sns.violinplot(x = \"factor1\", y = \"y\", hue = \"factor2\", data = tutorial_data)\n",
    "\n",
    "# titles\n",
    "plt.title(\"y by factor 1 by factor 2\")\n",
    "plt.xlabel(None)\n",
    "plt.ylabel(None)\n",
    "\n",
    "# legend\n",
    "plt.legend(loc = \"best\")\n",
    "\n",
    "# fix plot\n",
    "plt.tight_layout()"
   ]
  },
  {
   "cell_type": "markdown",
   "metadata": {},
   "source": [
    "# Models"
   ]
  },
  {
   "cell_type": "markdown",
   "metadata": {},
   "source": [
    "## eta-squared function\n",
    "$\\eta^2 = \\frac{SS_{Effect}}{SS_{Total}}$"
   ]
  },
  {
   "cell_type": "code",
   "execution_count": 124,
   "metadata": {},
   "outputs": [],
   "source": [
    "def eta_squared(anova_lm_df):\n",
    "    # total sum of squares\n",
    "    sst = anova_lm_df[\"sum_sq\"].sum()\n",
    "    \n",
    "    # add eta_squared to df\n",
    "    anova_lm_df[\"eta_squared\"] = [ss / sst for ss in anova_lm_df[\"sum_sq\"]]\n",
    "    \n",
    "    # return df\n",
    "    return anova_lm_df"
   ]
  },
  {
   "cell_type": "markdown",
   "metadata": {},
   "source": [
    "## Dummy codes"
   ]
  },
  {
   "cell_type": "markdown",
   "metadata": {},
   "source": [
    "### Model matrix if you multiply dummy-coded factors"
   ]
  },
  {
   "cell_type": "code",
   "execution_count": 125,
   "metadata": {},
   "outputs": [
    {
     "data": {
      "text/plain": [
       "array([[1., 0., 0., 0.],\n",
       "       [1., 0., 1., 0.],\n",
       "       [1., 1., 0., 0.],\n",
       "       [1., 1., 1., 1.]])"
      ]
     },
     "execution_count": 125,
     "metadata": {},
     "output_type": "execute_result"
    }
   ],
   "source": [
    "patsy.dmatrix(\"C(factor1, [[0], [1]]) * C(factor2, [[0], [1]])\", data = pd.DataFrame({\"factor1\": [1, 1, 2, 2], \"factor2\": [1, 2, 1, 2]}))[:, :]"
   ]
  },
  {
   "cell_type": "markdown",
   "metadata": {},
   "source": [
    "Ruins interpretation of main effects:  \n",
    "\n",
    "Group 1: $y_i = \\beta_0 + \\beta_1(0) + \\beta_2(0) + \\beta_3(0)$  \n",
    "Group 2: $y_i = \\beta_0 + \\beta_1(1) + \\beta_2(0) + \\beta_3(0)$   \n",
    "Group 3: $y_i = \\beta_0 + \\beta_1(0) + \\beta_2(1) + \\beta_3(0)$   \n",
    "Group 4: $y_i = \\beta_0 + \\beta_1(1) + \\beta_2(1) + \\beta_3(1)$  \n",
    "\n",
    "$\\beta_0 = \\mu_{Group 1}$  \n",
    "$\\beta_1 = \\mu_{Group 2} - \\beta_0 = \\mu_{Group 2} - \\mu_{Group 1}$  \n",
    "$\\beta_2 = \\mu_{Group 3} - \\beta_0 = \\mu_{Group 3} - \\mu_{Group 1}$  \n",
    "$\\beta_3 = \\mu_{Group 4} - \\beta_0 - \\beta_1 - \\beta_2$  \n",
    "$\\beta_3 = \\mu_{Group 4} - \\mu_{Group 1} - (\\mu_{Group 2} - \\mu_{Group 1}) - (\\mu_{Group 3} - \\mu_{Group 1})$  \n",
    "$\\beta_3 = \\mu_{Group 1} - \\mu_{Group 2} - \\mu_{Group 3} + \\mu_{Group 4}$"
   ]
  },
  {
   "cell_type": "markdown",
   "metadata": {},
   "source": [
    "### This coding scheme gives you two main effects and an interaction"
   ]
  },
  {
   "cell_type": "code",
   "execution_count": 126,
   "metadata": {},
   "outputs": [
    {
     "data": {
      "text/plain": [
       "array([[1., 0., 0., 1.],\n",
       "       [1., 0., 1., 0.],\n",
       "       [1., 1., 0., 0.],\n",
       "       [1., 1., 1., 1.]])"
      ]
     },
     "execution_count": 126,
     "metadata": {},
     "output_type": "execute_result"
    }
   ],
   "source": [
    "patsy.dmatrix(\"C(group, [[0, 0, 1], [0, 1, 0], [1, 0, 0], [1, 1, 1]])\", data = pd.DataFrame({\"group\": [1, 2, 3, 4]}))[:, :]"
   ]
  },
  {
   "cell_type": "markdown",
   "metadata": {},
   "source": [
    "### Fit model"
   ]
  },
  {
   "cell_type": "code",
   "execution_count": 127,
   "metadata": {},
   "outputs": [],
   "source": [
    "# index = 0 used as reference group\n",
    "ols_fit1 = smf.ols(\"y ~ C(group, [[0, 0, 1], [0, 1, 0], [1, 0, 0], [1, 1, 1]])\", data = tutorial_data).fit()"
   ]
  },
  {
   "cell_type": "markdown",
   "metadata": {},
   "source": [
    "## Coefficient estimates + other model info"
   ]
  },
  {
   "cell_type": "code",
   "execution_count": 128,
   "metadata": {},
   "outputs": [
    {
     "data": {
      "text/html": [
       "<table class=\"simpletable\">\n",
       "<caption>OLS Regression Results</caption>\n",
       "<tr>\n",
       "  <th>Dep. Variable:</th>            <td>y</td>        <th>  R-squared:         </th> <td>   0.163</td>\n",
       "</tr>\n",
       "<tr>\n",
       "  <th>Model:</th>                   <td>OLS</td>       <th>  Adj. R-squared:    </th> <td>   0.141</td>\n",
       "</tr>\n",
       "<tr>\n",
       "  <th>Method:</th>             <td>Least Squares</td>  <th>  F-statistic:       </th> <td>   7.536</td>\n",
       "</tr>\n",
       "<tr>\n",
       "  <th>Date:</th>             <td>Sun, 26 Jul 2020</td> <th>  Prob (F-statistic):</th> <td>0.000119</td>\n",
       "</tr>\n",
       "<tr>\n",
       "  <th>Time:</th>                 <td>12:29:46</td>     <th>  Log-Likelihood:    </th> <td> -165.73</td>\n",
       "</tr>\n",
       "<tr>\n",
       "  <th>No. Observations:</th>      <td>   120</td>      <th>  AIC:               </th> <td>   339.5</td>\n",
       "</tr>\n",
       "<tr>\n",
       "  <th>Df Residuals:</th>          <td>   116</td>      <th>  BIC:               </th> <td>   350.6</td>\n",
       "</tr>\n",
       "<tr>\n",
       "  <th>Df Model:</th>              <td>     3</td>      <th>                     </th>     <td> </td>   \n",
       "</tr>\n",
       "<tr>\n",
       "  <th>Covariance Type:</th>      <td>nonrobust</td>    <th>                     </th>     <td> </td>   \n",
       "</tr>\n",
       "</table>\n",
       "<table class=\"simpletable\">\n",
       "<tr>\n",
       "                                 <td></td>                                    <th>coef</th>     <th>std err</th>      <th>t</th>      <th>P>|t|</th>  <th>[0.025</th>    <th>0.975]</th>  \n",
       "</tr>\n",
       "<tr>\n",
       "  <th>Intercept</th>                                                       <td>    4.1329</td> <td>    0.179</td> <td>   23.115</td> <td> 0.000</td> <td>    3.779</td> <td>    4.487</td>\n",
       "</tr>\n",
       "<tr>\n",
       "  <th>C(group, [[0, 0, 1], [0, 1, 0], [1, 0, 0], [1, 1, 1]])[custom0]</th> <td>   -0.1389</td> <td>    0.179</td> <td>   -0.777</td> <td> 0.439</td> <td>   -0.493</td> <td>    0.215</td>\n",
       "</tr>\n",
       "<tr>\n",
       "  <th>C(group, [[0, 0, 1], [0, 1, 0], [1, 0, 0], [1, 1, 1]])[custom1]</th> <td>    0.1177</td> <td>    0.179</td> <td>    0.658</td> <td> 0.512</td> <td>   -0.236</td> <td>    0.472</td>\n",
       "</tr>\n",
       "<tr>\n",
       "  <th>C(group, [[0, 0, 1], [0, 1, 0], [1, 0, 0], [1, 1, 1]])[custom2]</th> <td>   -0.8304</td> <td>    0.179</td> <td>   -4.644</td> <td> 0.000</td> <td>   -1.185</td> <td>   -0.476</td>\n",
       "</tr>\n",
       "</table>\n",
       "<table class=\"simpletable\">\n",
       "<tr>\n",
       "  <th>Omnibus:</th>       <td> 0.733</td> <th>  Durbin-Watson:     </th> <td>   2.094</td>\n",
       "</tr>\n",
       "<tr>\n",
       "  <th>Prob(Omnibus):</th> <td> 0.693</td> <th>  Jarque-Bera (JB):  </th> <td>   0.406</td>\n",
       "</tr>\n",
       "<tr>\n",
       "  <th>Skew:</th>          <td> 0.120</td> <th>  Prob(JB):          </th> <td>   0.816</td>\n",
       "</tr>\n",
       "<tr>\n",
       "  <th>Kurtosis:</th>      <td> 3.154</td> <th>  Cond. No.          </th> <td>    3.73</td>\n",
       "</tr>\n",
       "</table><br/><br/>Warnings:<br/>[1] Standard Errors assume that the covariance matrix of the errors is correctly specified."
      ],
      "text/plain": [
       "<class 'statsmodels.iolib.summary.Summary'>\n",
       "\"\"\"\n",
       "                            OLS Regression Results                            \n",
       "==============================================================================\n",
       "Dep. Variable:                      y   R-squared:                       0.163\n",
       "Model:                            OLS   Adj. R-squared:                  0.141\n",
       "Method:                 Least Squares   F-statistic:                     7.536\n",
       "Date:                Sun, 26 Jul 2020   Prob (F-statistic):           0.000119\n",
       "Time:                        12:29:46   Log-Likelihood:                -165.73\n",
       "No. Observations:                 120   AIC:                             339.5\n",
       "Df Residuals:                     116   BIC:                             350.6\n",
       "Df Model:                           3                                         \n",
       "Covariance Type:            nonrobust                                         \n",
       "===================================================================================================================================\n",
       "                                                                      coef    std err          t      P>|t|      [0.025      0.975]\n",
       "-----------------------------------------------------------------------------------------------------------------------------------\n",
       "Intercept                                                           4.1329      0.179     23.115      0.000       3.779       4.487\n",
       "C(group, [[0, 0, 1], [0, 1, 0], [1, 0, 0], [1, 1, 1]])[custom0]    -0.1389      0.179     -0.777      0.439      -0.493       0.215\n",
       "C(group, [[0, 0, 1], [0, 1, 0], [1, 0, 0], [1, 1, 1]])[custom1]     0.1177      0.179      0.658      0.512      -0.236       0.472\n",
       "C(group, [[0, 0, 1], [0, 1, 0], [1, 0, 0], [1, 1, 1]])[custom2]    -0.8304      0.179     -4.644      0.000      -1.185      -0.476\n",
       "==============================================================================\n",
       "Omnibus:                        0.733   Durbin-Watson:                   2.094\n",
       "Prob(Omnibus):                  0.693   Jarque-Bera (JB):                0.406\n",
       "Skew:                           0.120   Prob(JB):                        0.816\n",
       "Kurtosis:                       3.154   Cond. No.                         3.73\n",
       "==============================================================================\n",
       "\n",
       "Warnings:\n",
       "[1] Standard Errors assume that the covariance matrix of the errors is correctly specified.\n",
       "\"\"\""
      ]
     },
     "execution_count": 128,
     "metadata": {},
     "output_type": "execute_result"
    }
   ],
   "source": [
    "ols_fit1.summary()"
   ]
  },
  {
   "cell_type": "markdown",
   "metadata": {},
   "source": [
    "### ANOVA source table"
   ]
  },
  {
   "cell_type": "code",
   "execution_count": 129,
   "metadata": {},
   "outputs": [
    {
     "data": {
      "text/html": [
       "<div>\n",
       "<style scoped>\n",
       "    .dataframe tbody tr th:only-of-type {\n",
       "        vertical-align: middle;\n",
       "    }\n",
       "\n",
       "    .dataframe tbody tr th {\n",
       "        vertical-align: top;\n",
       "    }\n",
       "\n",
       "    .dataframe thead th {\n",
       "        text-align: right;\n",
       "    }\n",
       "</style>\n",
       "<table border=\"1\" class=\"dataframe\">\n",
       "  <thead>\n",
       "    <tr style=\"text-align: right;\">\n",
       "      <th></th>\n",
       "      <th>df</th>\n",
       "      <th>sum_sq</th>\n",
       "      <th>mean_sq</th>\n",
       "      <th>F</th>\n",
       "      <th>PR(&gt;F)</th>\n",
       "      <th>eta_squared</th>\n",
       "    </tr>\n",
       "  </thead>\n",
       "  <tbody>\n",
       "    <tr>\n",
       "      <th>C(group, [[0, 0, 1], [0, 1, 0], [1, 0, 0], [1, 1, 1]])</th>\n",
       "      <td>3.0</td>\n",
       "      <td>21.681769</td>\n",
       "      <td>7.227256</td>\n",
       "      <td>7.535827</td>\n",
       "      <td>0.000119</td>\n",
       "      <td>0.163104</td>\n",
       "    </tr>\n",
       "    <tr>\n",
       "      <th>Residual</th>\n",
       "      <td>116.0</td>\n",
       "      <td>111.250134</td>\n",
       "      <td>0.959053</td>\n",
       "      <td>NaN</td>\n",
       "      <td>NaN</td>\n",
       "      <td>0.836896</td>\n",
       "    </tr>\n",
       "  </tbody>\n",
       "</table>\n",
       "</div>"
      ],
      "text/plain": [
       "                                                       df      sum_sq  \\\n",
       "C(group, [[0, 0, 1], [0, 1, 0], [1, 0, 0], [1, ...    3.0   21.681769   \n",
       "Residual                                            116.0  111.250134   \n",
       "\n",
       "                                                     mean_sq         F  \\\n",
       "C(group, [[0, 0, 1], [0, 1, 0], [1, 0, 0], [1, ...  7.227256  7.535827   \n",
       "Residual                                            0.959053       NaN   \n",
       "\n",
       "                                                      PR(>F)  eta_squared  \n",
       "C(group, [[0, 0, 1], [0, 1, 0], [1, 0, 0], [1, ...  0.000119     0.163104  \n",
       "Residual                                                 NaN     0.836896  "
      ]
     },
     "execution_count": 129,
     "metadata": {},
     "output_type": "execute_result"
    }
   ],
   "source": [
    "eta_squared(\n",
    "    sm.stats.anova_lm(ols_fit1, type = 3)\n",
    ")"
   ]
  },
  {
   "cell_type": "markdown",
   "metadata": {},
   "source": [
    "## Custom codes"
   ]
  },
  {
   "cell_type": "code",
   "execution_count": 130,
   "metadata": {},
   "outputs": [
    {
     "data": {
      "text/plain": [
       "array([[-0.5, -0.5,  0.5],\n",
       "       [-0.5,  0.5, -0.5],\n",
       "       [ 0.5, -0.5, -0.5],\n",
       "       [ 0.5,  0.5,  0.5]])"
      ]
     },
     "execution_count": 130,
     "metadata": {},
     "output_type": "execute_result"
    }
   ],
   "source": [
    "np.array([[-0.5, -0.5, 0.5], [-0.5, 0.5, -0.5], [0.5, -0.5, -0.5], [0.5, 0.5, 0.5]])"
   ]
  },
  {
   "cell_type": "markdown",
   "metadata": {},
   "source": [
    "### Fit model"
   ]
  },
  {
   "cell_type": "code",
   "execution_count": 131,
   "metadata": {},
   "outputs": [],
   "source": [
    "# index = 0 used as reference group\n",
    "ols_fit2 = smf.ols(\"y ~ C(group, [[-0.5, -0.5, 0.5], [-0.5, 0.5, -0.5], [0.5, -0.5, -0.5], [0.5, 0.5, 0.5]])\", data = tutorial_data).fit()"
   ]
  },
  {
   "cell_type": "markdown",
   "metadata": {},
   "source": [
    "## Coefficient estimates + other model info"
   ]
  },
  {
   "cell_type": "code",
   "execution_count": 132,
   "metadata": {},
   "outputs": [
    {
     "data": {
      "text/html": [
       "<table class=\"simpletable\">\n",
       "<caption>OLS Regression Results</caption>\n",
       "<tr>\n",
       "  <th>Dep. Variable:</th>            <td>y</td>        <th>  R-squared:         </th> <td>   0.163</td>\n",
       "</tr>\n",
       "<tr>\n",
       "  <th>Model:</th>                   <td>OLS</td>       <th>  Adj. R-squared:    </th> <td>   0.141</td>\n",
       "</tr>\n",
       "<tr>\n",
       "  <th>Method:</th>             <td>Least Squares</td>  <th>  F-statistic:       </th> <td>   7.536</td>\n",
       "</tr>\n",
       "<tr>\n",
       "  <th>Date:</th>             <td>Sun, 26 Jul 2020</td> <th>  Prob (F-statistic):</th> <td>0.000119</td>\n",
       "</tr>\n",
       "<tr>\n",
       "  <th>Time:</th>                 <td>12:29:46</td>     <th>  Log-Likelihood:    </th> <td> -165.73</td>\n",
       "</tr>\n",
       "<tr>\n",
       "  <th>No. Observations:</th>      <td>   120</td>      <th>  AIC:               </th> <td>   339.5</td>\n",
       "</tr>\n",
       "<tr>\n",
       "  <th>Df Residuals:</th>          <td>   116</td>      <th>  BIC:               </th> <td>   350.6</td>\n",
       "</tr>\n",
       "<tr>\n",
       "  <th>Df Model:</th>              <td>     3</td>      <th>                     </th>     <td> </td>   \n",
       "</tr>\n",
       "<tr>\n",
       "  <th>Covariance Type:</th>      <td>nonrobust</td>    <th>                     </th>     <td> </td>   \n",
       "</tr>\n",
       "</table>\n",
       "<table class=\"simpletable\">\n",
       "<tr>\n",
       "                                                <td></td>                                                   <th>coef</th>     <th>std err</th>      <th>t</th>      <th>P>|t|</th>  <th>[0.025</th>    <th>0.975]</th>  \n",
       "</tr>\n",
       "<tr>\n",
       "  <th>Intercept</th>                                                                                     <td>    3.7071</td> <td>    0.089</td> <td>   41.467</td> <td> 0.000</td> <td>    3.530</td> <td>    3.884</td>\n",
       "</tr>\n",
       "<tr>\n",
       "  <th>C(group, [[-0.5, -0.5, 0.5], [-0.5, 0.5, -0.5], [0.5, -0.5, -0.5], [0.5, 0.5, 0.5]])[custom0]</th> <td>   -0.1389</td> <td>    0.179</td> <td>   -0.777</td> <td> 0.439</td> <td>   -0.493</td> <td>    0.215</td>\n",
       "</tr>\n",
       "<tr>\n",
       "  <th>C(group, [[-0.5, -0.5, 0.5], [-0.5, 0.5, -0.5], [0.5, -0.5, -0.5], [0.5, 0.5, 0.5]])[custom1]</th> <td>    0.1177</td> <td>    0.179</td> <td>    0.658</td> <td> 0.512</td> <td>   -0.236</td> <td>    0.472</td>\n",
       "</tr>\n",
       "<tr>\n",
       "  <th>C(group, [[-0.5, -0.5, 0.5], [-0.5, 0.5, -0.5], [0.5, -0.5, -0.5], [0.5, 0.5, 0.5]])[custom2]</th> <td>   -0.8304</td> <td>    0.179</td> <td>   -4.644</td> <td> 0.000</td> <td>   -1.185</td> <td>   -0.476</td>\n",
       "</tr>\n",
       "</table>\n",
       "<table class=\"simpletable\">\n",
       "<tr>\n",
       "  <th>Omnibus:</th>       <td> 0.733</td> <th>  Durbin-Watson:     </th> <td>   2.094</td>\n",
       "</tr>\n",
       "<tr>\n",
       "  <th>Prob(Omnibus):</th> <td> 0.693</td> <th>  Jarque-Bera (JB):  </th> <td>   0.406</td>\n",
       "</tr>\n",
       "<tr>\n",
       "  <th>Skew:</th>          <td> 0.120</td> <th>  Prob(JB):          </th> <td>   0.816</td>\n",
       "</tr>\n",
       "<tr>\n",
       "  <th>Kurtosis:</th>      <td> 3.154</td> <th>  Cond. No.          </th> <td>    2.00</td>\n",
       "</tr>\n",
       "</table><br/><br/>Warnings:<br/>[1] Standard Errors assume that the covariance matrix of the errors is correctly specified."
      ],
      "text/plain": [
       "<class 'statsmodels.iolib.summary.Summary'>\n",
       "\"\"\"\n",
       "                            OLS Regression Results                            \n",
       "==============================================================================\n",
       "Dep. Variable:                      y   R-squared:                       0.163\n",
       "Model:                            OLS   Adj. R-squared:                  0.141\n",
       "Method:                 Least Squares   F-statistic:                     7.536\n",
       "Date:                Sun, 26 Jul 2020   Prob (F-statistic):           0.000119\n",
       "Time:                        12:29:46   Log-Likelihood:                -165.73\n",
       "No. Observations:                 120   AIC:                             339.5\n",
       "Df Residuals:                     116   BIC:                             350.6\n",
       "Df Model:                           3                                         \n",
       "Covariance Type:            nonrobust                                         \n",
       "=================================================================================================================================================================\n",
       "                                                                                                    coef    std err          t      P>|t|      [0.025      0.975]\n",
       "-----------------------------------------------------------------------------------------------------------------------------------------------------------------\n",
       "Intercept                                                                                         3.7071      0.089     41.467      0.000       3.530       3.884\n",
       "C(group, [[-0.5, -0.5, 0.5], [-0.5, 0.5, -0.5], [0.5, -0.5, -0.5], [0.5, 0.5, 0.5]])[custom0]    -0.1389      0.179     -0.777      0.439      -0.493       0.215\n",
       "C(group, [[-0.5, -0.5, 0.5], [-0.5, 0.5, -0.5], [0.5, -0.5, -0.5], [0.5, 0.5, 0.5]])[custom1]     0.1177      0.179      0.658      0.512      -0.236       0.472\n",
       "C(group, [[-0.5, -0.5, 0.5], [-0.5, 0.5, -0.5], [0.5, -0.5, -0.5], [0.5, 0.5, 0.5]])[custom2]    -0.8304      0.179     -4.644      0.000      -1.185      -0.476\n",
       "==============================================================================\n",
       "Omnibus:                        0.733   Durbin-Watson:                   2.094\n",
       "Prob(Omnibus):                  0.693   Jarque-Bera (JB):                0.406\n",
       "Skew:                           0.120   Prob(JB):                        0.816\n",
       "Kurtosis:                       3.154   Cond. No.                         2.00\n",
       "==============================================================================\n",
       "\n",
       "Warnings:\n",
       "[1] Standard Errors assume that the covariance matrix of the errors is correctly specified.\n",
       "\"\"\""
      ]
     },
     "execution_count": 132,
     "metadata": {},
     "output_type": "execute_result"
    }
   ],
   "source": [
    "ols_fit2.summary()"
   ]
  },
  {
   "cell_type": "markdown",
   "metadata": {},
   "source": [
    "### ANOVA source table"
   ]
  },
  {
   "cell_type": "code",
   "execution_count": 133,
   "metadata": {},
   "outputs": [
    {
     "data": {
      "text/html": [
       "<div>\n",
       "<style scoped>\n",
       "    .dataframe tbody tr th:only-of-type {\n",
       "        vertical-align: middle;\n",
       "    }\n",
       "\n",
       "    .dataframe tbody tr th {\n",
       "        vertical-align: top;\n",
       "    }\n",
       "\n",
       "    .dataframe thead th {\n",
       "        text-align: right;\n",
       "    }\n",
       "</style>\n",
       "<table border=\"1\" class=\"dataframe\">\n",
       "  <thead>\n",
       "    <tr style=\"text-align: right;\">\n",
       "      <th></th>\n",
       "      <th>df</th>\n",
       "      <th>sum_sq</th>\n",
       "      <th>mean_sq</th>\n",
       "      <th>F</th>\n",
       "      <th>PR(&gt;F)</th>\n",
       "      <th>eta_squared</th>\n",
       "    </tr>\n",
       "  </thead>\n",
       "  <tbody>\n",
       "    <tr>\n",
       "      <th>C(group, [[-0.5, -0.5, 0.5], [-0.5, 0.5, -0.5], [0.5, -0.5, -0.5], [0.5, 0.5, 0.5]])</th>\n",
       "      <td>3.0</td>\n",
       "      <td>21.681769</td>\n",
       "      <td>7.227256</td>\n",
       "      <td>7.535827</td>\n",
       "      <td>0.000119</td>\n",
       "      <td>0.163104</td>\n",
       "    </tr>\n",
       "    <tr>\n",
       "      <th>Residual</th>\n",
       "      <td>116.0</td>\n",
       "      <td>111.250134</td>\n",
       "      <td>0.959053</td>\n",
       "      <td>NaN</td>\n",
       "      <td>NaN</td>\n",
       "      <td>0.836896</td>\n",
       "    </tr>\n",
       "  </tbody>\n",
       "</table>\n",
       "</div>"
      ],
      "text/plain": [
       "                                                       df      sum_sq  \\\n",
       "C(group, [[-0.5, -0.5, 0.5], [-0.5, 0.5, -0.5],...    3.0   21.681769   \n",
       "Residual                                            116.0  111.250134   \n",
       "\n",
       "                                                     mean_sq         F  \\\n",
       "C(group, [[-0.5, -0.5, 0.5], [-0.5, 0.5, -0.5],...  7.227256  7.535827   \n",
       "Residual                                            0.959053       NaN   \n",
       "\n",
       "                                                      PR(>F)  eta_squared  \n",
       "C(group, [[-0.5, -0.5, 0.5], [-0.5, 0.5, -0.5],...  0.000119     0.163104  \n",
       "Residual                                                 NaN     0.836896  "
      ]
     },
     "execution_count": 133,
     "metadata": {},
     "output_type": "execute_result"
    }
   ],
   "source": [
    "eta_squared(\n",
    "    sm.stats.anova_lm(ols_fit2, type = 3)\n",
    ")"
   ]
  },
  {
   "cell_type": "markdown",
   "metadata": {},
   "source": [
    "## Custom codes using factor1 and factor2 variables"
   ]
  },
  {
   "cell_type": "code",
   "execution_count": 134,
   "metadata": {},
   "outputs": [
    {
     "data": {
      "text/plain": [
       "array([[-0.5],\n",
       "       [ 0.5]])"
      ]
     },
     "execution_count": 134,
     "metadata": {},
     "output_type": "execute_result"
    }
   ],
   "source": [
    "np.array([[-0.5], [0.5]])"
   ]
  },
  {
   "cell_type": "markdown",
   "metadata": {},
   "source": [
    "### Fit model"
   ]
  },
  {
   "cell_type": "code",
   "execution_count": 135,
   "metadata": {},
   "outputs": [],
   "source": [
    "# index = 0 used as reference group\n",
    "ols_fit3 = smf.ols(\"y ~ C(factor1, [[-0.5], [0.5]]) * C(factor2, [[-0.5], [0.5]])\", data = tutorial_data).fit()"
   ]
  },
  {
   "cell_type": "markdown",
   "metadata": {},
   "source": [
    "## Coefficient estimates + other model info"
   ]
  },
  {
   "cell_type": "code",
   "execution_count": 136,
   "metadata": {},
   "outputs": [
    {
     "data": {
      "text/html": [
       "<table class=\"simpletable\">\n",
       "<caption>OLS Regression Results</caption>\n",
       "<tr>\n",
       "  <th>Dep. Variable:</th>            <td>y</td>        <th>  R-squared:         </th> <td>   0.163</td>\n",
       "</tr>\n",
       "<tr>\n",
       "  <th>Model:</th>                   <td>OLS</td>       <th>  Adj. R-squared:    </th> <td>   0.141</td>\n",
       "</tr>\n",
       "<tr>\n",
       "  <th>Method:</th>             <td>Least Squares</td>  <th>  F-statistic:       </th> <td>   7.536</td>\n",
       "</tr>\n",
       "<tr>\n",
       "  <th>Date:</th>             <td>Sun, 26 Jul 2020</td> <th>  Prob (F-statistic):</th> <td>0.000119</td>\n",
       "</tr>\n",
       "<tr>\n",
       "  <th>Time:</th>                 <td>12:29:46</td>     <th>  Log-Likelihood:    </th> <td> -165.73</td>\n",
       "</tr>\n",
       "<tr>\n",
       "  <th>No. Observations:</th>      <td>   120</td>      <th>  AIC:               </th> <td>   339.5</td>\n",
       "</tr>\n",
       "<tr>\n",
       "  <th>Df Residuals:</th>          <td>   116</td>      <th>  BIC:               </th> <td>   350.6</td>\n",
       "</tr>\n",
       "<tr>\n",
       "  <th>Df Model:</th>              <td>     3</td>      <th>                     </th>     <td> </td>   \n",
       "</tr>\n",
       "<tr>\n",
       "  <th>Covariance Type:</th>      <td>nonrobust</td>    <th>                     </th>     <td> </td>   \n",
       "</tr>\n",
       "</table>\n",
       "<table class=\"simpletable\">\n",
       "<tr>\n",
       "                                      <td></td>                                         <th>coef</th>     <th>std err</th>      <th>t</th>      <th>P>|t|</th>  <th>[0.025</th>    <th>0.975]</th>  \n",
       "</tr>\n",
       "<tr>\n",
       "  <th>Intercept</th>                                                                 <td>    3.7071</td> <td>    0.089</td> <td>   41.467</td> <td> 0.000</td> <td>    3.530</td> <td>    3.884</td>\n",
       "</tr>\n",
       "<tr>\n",
       "  <th>C(factor1, [[-0.5], [0.5]])[custom0]</th>                                      <td>   -0.1389</td> <td>    0.179</td> <td>   -0.777</td> <td> 0.439</td> <td>   -0.493</td> <td>    0.215</td>\n",
       "</tr>\n",
       "<tr>\n",
       "  <th>C(factor2, [[-0.5], [0.5]])[custom0]</th>                                      <td>    0.1177</td> <td>    0.179</td> <td>    0.658</td> <td> 0.512</td> <td>   -0.236</td> <td>    0.472</td>\n",
       "</tr>\n",
       "<tr>\n",
       "  <th>C(factor1, [[-0.5], [0.5]])[custom0]:C(factor2, [[-0.5], [0.5]])[custom0]</th> <td>   -1.6608</td> <td>    0.358</td> <td>   -4.644</td> <td> 0.000</td> <td>   -2.369</td> <td>   -0.953</td>\n",
       "</tr>\n",
       "</table>\n",
       "<table class=\"simpletable\">\n",
       "<tr>\n",
       "  <th>Omnibus:</th>       <td> 0.733</td> <th>  Durbin-Watson:     </th> <td>   2.094</td>\n",
       "</tr>\n",
       "<tr>\n",
       "  <th>Prob(Omnibus):</th> <td> 0.693</td> <th>  Jarque-Bera (JB):  </th> <td>   0.406</td>\n",
       "</tr>\n",
       "<tr>\n",
       "  <th>Skew:</th>          <td> 0.120</td> <th>  Prob(JB):          </th> <td>   0.816</td>\n",
       "</tr>\n",
       "<tr>\n",
       "  <th>Kurtosis:</th>      <td> 3.154</td> <th>  Cond. No.          </th> <td>    4.00</td>\n",
       "</tr>\n",
       "</table><br/><br/>Warnings:<br/>[1] Standard Errors assume that the covariance matrix of the errors is correctly specified."
      ],
      "text/plain": [
       "<class 'statsmodels.iolib.summary.Summary'>\n",
       "\"\"\"\n",
       "                            OLS Regression Results                            \n",
       "==============================================================================\n",
       "Dep. Variable:                      y   R-squared:                       0.163\n",
       "Model:                            OLS   Adj. R-squared:                  0.141\n",
       "Method:                 Least Squares   F-statistic:                     7.536\n",
       "Date:                Sun, 26 Jul 2020   Prob (F-statistic):           0.000119\n",
       "Time:                        12:29:46   Log-Likelihood:                -165.73\n",
       "No. Observations:                 120   AIC:                             339.5\n",
       "Df Residuals:                     116   BIC:                             350.6\n",
       "Df Model:                           3                                         \n",
       "Covariance Type:            nonrobust                                         \n",
       "=============================================================================================================================================\n",
       "                                                                                coef    std err          t      P>|t|      [0.025      0.975]\n",
       "---------------------------------------------------------------------------------------------------------------------------------------------\n",
       "Intercept                                                                     3.7071      0.089     41.467      0.000       3.530       3.884\n",
       "C(factor1, [[-0.5], [0.5]])[custom0]                                         -0.1389      0.179     -0.777      0.439      -0.493       0.215\n",
       "C(factor2, [[-0.5], [0.5]])[custom0]                                          0.1177      0.179      0.658      0.512      -0.236       0.472\n",
       "C(factor1, [[-0.5], [0.5]])[custom0]:C(factor2, [[-0.5], [0.5]])[custom0]    -1.6608      0.358     -4.644      0.000      -2.369      -0.953\n",
       "==============================================================================\n",
       "Omnibus:                        0.733   Durbin-Watson:                   2.094\n",
       "Prob(Omnibus):                  0.693   Jarque-Bera (JB):                0.406\n",
       "Skew:                           0.120   Prob(JB):                        0.816\n",
       "Kurtosis:                       3.154   Cond. No.                         4.00\n",
       "==============================================================================\n",
       "\n",
       "Warnings:\n",
       "[1] Standard Errors assume that the covariance matrix of the errors is correctly specified.\n",
       "\"\"\""
      ]
     },
     "execution_count": 136,
     "metadata": {},
     "output_type": "execute_result"
    }
   ],
   "source": [
    "ols_fit3.summary()"
   ]
  },
  {
   "cell_type": "markdown",
   "metadata": {},
   "source": [
    "### ANOVA source table"
   ]
  },
  {
   "cell_type": "code",
   "execution_count": 137,
   "metadata": {},
   "outputs": [
    {
     "data": {
      "text/html": [
       "<div>\n",
       "<style scoped>\n",
       "    .dataframe tbody tr th:only-of-type {\n",
       "        vertical-align: middle;\n",
       "    }\n",
       "\n",
       "    .dataframe tbody tr th {\n",
       "        vertical-align: top;\n",
       "    }\n",
       "\n",
       "    .dataframe thead th {\n",
       "        text-align: right;\n",
       "    }\n",
       "</style>\n",
       "<table border=\"1\" class=\"dataframe\">\n",
       "  <thead>\n",
       "    <tr style=\"text-align: right;\">\n",
       "      <th></th>\n",
       "      <th>df</th>\n",
       "      <th>sum_sq</th>\n",
       "      <th>mean_sq</th>\n",
       "      <th>F</th>\n",
       "      <th>PR(&gt;F)</th>\n",
       "      <th>eta_squared</th>\n",
       "    </tr>\n",
       "  </thead>\n",
       "  <tbody>\n",
       "    <tr>\n",
       "      <th>C(factor1, [[-0.5], [0.5]])</th>\n",
       "      <td>1.0</td>\n",
       "      <td>0.579054</td>\n",
       "      <td>0.579054</td>\n",
       "      <td>0.603777</td>\n",
       "      <td>0.438722</td>\n",
       "      <td>0.004356</td>\n",
       "    </tr>\n",
       "    <tr>\n",
       "      <th>C(factor2, [[-0.5], [0.5]])</th>\n",
       "      <td>1.0</td>\n",
       "      <td>0.415336</td>\n",
       "      <td>0.415336</td>\n",
       "      <td>0.433069</td>\n",
       "      <td>0.511791</td>\n",
       "      <td>0.003124</td>\n",
       "    </tr>\n",
       "    <tr>\n",
       "      <th>C(factor1, [[-0.5], [0.5]]):C(factor2, [[-0.5], [0.5]])</th>\n",
       "      <td>1.0</td>\n",
       "      <td>20.687380</td>\n",
       "      <td>20.687380</td>\n",
       "      <td>21.570635</td>\n",
       "      <td>0.000009</td>\n",
       "      <td>0.155624</td>\n",
       "    </tr>\n",
       "    <tr>\n",
       "      <th>Residual</th>\n",
       "      <td>116.0</td>\n",
       "      <td>111.250134</td>\n",
       "      <td>0.959053</td>\n",
       "      <td>NaN</td>\n",
       "      <td>NaN</td>\n",
       "      <td>0.836896</td>\n",
       "    </tr>\n",
       "  </tbody>\n",
       "</table>\n",
       "</div>"
      ],
      "text/plain": [
       "                                                       df      sum_sq  \\\n",
       "C(factor1, [[-0.5], [0.5]])                           1.0    0.579054   \n",
       "C(factor2, [[-0.5], [0.5]])                           1.0    0.415336   \n",
       "C(factor1, [[-0.5], [0.5]]):C(factor2, [[-0.5],...    1.0   20.687380   \n",
       "Residual                                            116.0  111.250134   \n",
       "\n",
       "                                                      mean_sq          F  \\\n",
       "C(factor1, [[-0.5], [0.5]])                          0.579054   0.603777   \n",
       "C(factor2, [[-0.5], [0.5]])                          0.415336   0.433069   \n",
       "C(factor1, [[-0.5], [0.5]]):C(factor2, [[-0.5],...  20.687380  21.570635   \n",
       "Residual                                             0.959053        NaN   \n",
       "\n",
       "                                                      PR(>F)  eta_squared  \n",
       "C(factor1, [[-0.5], [0.5]])                         0.438722     0.004356  \n",
       "C(factor2, [[-0.5], [0.5]])                         0.511791     0.003124  \n",
       "C(factor1, [[-0.5], [0.5]]):C(factor2, [[-0.5],...  0.000009     0.155624  \n",
       "Residual                                                 NaN     0.836896  "
      ]
     },
     "execution_count": 137,
     "metadata": {},
     "output_type": "execute_result"
    }
   ],
   "source": [
    "eta_squared(\n",
    "    sm.stats.anova_lm(ols_fit3, type = 3)\n",
    ")"
   ]
  },
  {
   "cell_type": "markdown",
   "metadata": {},
   "source": [
    "## Effect code main effects and interactions as float predictors"
   ]
  },
  {
   "cell_type": "code",
   "execution_count": 138,
   "metadata": {},
   "outputs": [],
   "source": [
    "effect1 = [{1: -0.5, 2: -0.5, 3: 0.5, 4: 0.5}[x] for x in group]\n",
    "effect2 = [{1: -0.5, 2: 0.5, 3: -0.5, 4: 0.5}[x] for x in group]\n",
    "interaction = [{1: 0.5, 2: -0.5, 3: -0.5, 4: 0.5}[x] for x in group]"
   ]
  },
  {
   "cell_type": "markdown",
   "metadata": {},
   "source": [
    "## Fit bayesian GLM with student t priors\n",
    "Prior choices loosely based on [Prior Choice Recommendations from Andrew Gelman](https://github.com/stan-dev/stan/wiki/Prior-Choice-Recommendations)"
   ]
  },
  {
   "cell_type": "code",
   "execution_count": null,
   "metadata": {},
   "outputs": [
    {
     "name": "stderr",
     "output_type": "stream",
     "text": [
      "Auto-assigning NUTS sampler...\n",
      "Initializing NUTS using jitter+adapt_diag...\n",
      "Multiprocess sampling (2 chains in 2 jobs)\n",
      "NUTS: [sd, interaction, effect2, effect1, Intercept]\n"
     ]
    },
    {
     "data": {
      "text/html": [
       "\n",
       "    <div>\n",
       "        <style>\n",
       "            /* Turns off some styling */\n",
       "            progress {\n",
       "                /* gets rid of default border in Firefox and Opera. */\n",
       "                border: none;\n",
       "                /* Needs to be in here for Safari polyfill so background images work as expected. */\n",
       "                background-size: auto;\n",
       "            }\n",
       "            .progress-bar-interrupted, .progress-bar-interrupted::-webkit-progress-bar {\n",
       "                background: #F44336;\n",
       "            }\n",
       "        </style>\n",
       "      <progress value='2063' class='' max='6000' style='width:300px; height:20px; vertical-align: middle;'></progress>\n",
       "      34.38% [2063/6000 00:04<00:08 Sampling 2 chains, 0 divergences]\n",
       "    </div>\n",
       "    "
      ],
      "text/plain": [
       "<IPython.core.display.HTML object>"
      ]
     },
     "metadata": {},
     "output_type": "display_data"
    }
   ],
   "source": [
    "with pymc3.Model() as tutorial_model:\n",
    "    # define priors, mean = 0, sd = 1, df = 10\n",
    "    priors = {\"Intercept\": pymc3.StudentT.dist(mu = 0, sigma = 1, nu = 10),\n",
    "             \"effect1\": pymc3.StudentT.dist(mu = 0, sigma = 1, nu = 10),\n",
    "             \"effect2\": pymc3.StudentT.dist(mu = 0, sigma = 1, nu = 10),\n",
    "             \"interaction\": pymc3.StudentT.dist(mu = 0, sigma = 1, nu = 10)}\n",
    "    \n",
    "    # model formula\n",
    "    pymc3.GLM.from_formula(\"y ~ effect1 + effect2 + interaction\", data = tutorial_data, priors = priors)\n",
    "    \n",
    "    # sample\n",
    "    tutorial_trace = pymc3.sample(draws = 2000, cores = 2)"
   ]
  },
  {
   "cell_type": "markdown",
   "metadata": {},
   "source": [
    "### Trace plots"
   ]
  },
  {
   "cell_type": "code",
   "execution_count": null,
   "metadata": {},
   "outputs": [],
   "source": [
    "# figure\n",
    "plt.figure(figsize = (14, 7))\n",
    "\n",
    "# trace plot\n",
    "pymc3.traceplot(tutorial_trace)\n",
    "\n",
    "# fix plot\n",
    "plt.tight_layout();"
   ]
  },
  {
   "cell_type": "markdown",
   "metadata": {},
   "source": [
    "### Summary of results"
   ]
  },
  {
   "cell_type": "code",
   "execution_count": null,
   "metadata": {},
   "outputs": [],
   "source": [
    "pymc3.summary(tutorial_trace, hdi_prob = 0.95)"
   ]
  },
  {
   "cell_type": "markdown",
   "metadata": {},
   "source": [
    "### Linear regression results for comparison"
   ]
  },
  {
   "cell_type": "code",
   "execution_count": null,
   "metadata": {},
   "outputs": [],
   "source": [
    "ols_fit2.summary()"
   ]
  },
  {
   "cell_type": "markdown",
   "metadata": {},
   "source": [
    "### Compare sd in trace plots to mean square residual in ANOVA source table"
   ]
  },
  {
   "cell_type": "code",
   "execution_count": null,
   "metadata": {},
   "outputs": [],
   "source": [
    "sm.stats.anova_lm(ols_fit2, type = 3)"
   ]
  }
 ],
 "metadata": {
  "kernelspec": {
   "display_name": "Python 3",
   "language": "python",
   "name": "python3"
  },
  "language_info": {
   "codemirror_mode": {
    "name": "ipython",
    "version": 3
   },
   "file_extension": ".py",
   "mimetype": "text/x-python",
   "name": "python",
   "nbconvert_exporter": "python",
   "pygments_lexer": "ipython3",
   "version": "3.7.6"
  },
  "toc": {
   "base_numbering": 1,
   "nav_menu": {},
   "number_sections": true,
   "sideBar": true,
   "skip_h1_title": false,
   "title_cell": "Table of Contents",
   "title_sidebar": "Contents",
   "toc_cell": true,
   "toc_position": {},
   "toc_section_display": true,
   "toc_window_display": true
  },
  "varInspector": {
   "cols": {
    "lenName": 16,
    "lenType": 16,
    "lenVar": 40
   },
   "kernels_config": {
    "python": {
     "delete_cmd_postfix": "",
     "delete_cmd_prefix": "del ",
     "library": "var_list.py",
     "varRefreshCmd": "print(var_dic_list())"
    },
    "r": {
     "delete_cmd_postfix": ") ",
     "delete_cmd_prefix": "rm(",
     "library": "var_list.r",
     "varRefreshCmd": "cat(var_dic_list()) "
    }
   },
   "types_to_exclude": [
    "module",
    "function",
    "builtin_function_or_method",
    "instance",
    "_Feature"
   ],
   "window_display": false
  }
 },
 "nbformat": 4,
 "nbformat_minor": 4
}
