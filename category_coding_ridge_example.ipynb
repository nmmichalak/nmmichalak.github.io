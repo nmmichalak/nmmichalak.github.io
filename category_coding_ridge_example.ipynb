{
 "cells": [
  {
   "cell_type": "markdown",
   "metadata": {},
   "source": [
    "# Goal\n",
    "The goal is simple: demonstrate similarities and differences among different categorical coding systems for using in regression, either OLS or Ridge/Regularization."
   ]
  },
  {
   "cell_type": "markdown",
   "metadata": {},
   "source": [
    "# packages"
   ]
  },
  {
   "cell_type": "code",
   "execution_count": 2,
   "metadata": {},
   "outputs": [],
   "source": [
    "import numpy as np\n",
    "import pandas as pd\n",
    "from sklearn.linear_model import Ridge\n",
    "from sklearn.metrics import mean_squared_error\n",
    "import patsy"
   ]
  },
  {
   "cell_type": "markdown",
   "metadata": {},
   "source": [
    "# data\n",
    "generate random 100 observations, 4 categories in a group variable, code regression predictors using different designs: treatment (aka, dummy), Helmert, onehot (aka, dummy or treatment without an intercept so all group means are estimated) "
   ]
  },
  {
   "cell_type": "code",
   "execution_count": 3,
   "metadata": {},
   "outputs": [],
   "source": [
    "y = np.random.normal(loc = 0, scale = 1, size = 100)\n",
    "group = np.repeat([\"A\", \"B\", \"C\", \"D\"], repeats = 25)\n",
    "X_treatment = patsy.dmatrix(\"~ C(group, Treatment)\")[:, 1:]\n",
    "\n",
    "# for comparison to Treatment\n",
    "X_get_dummies_drop = pd.get_dummies(group, drop_first = True)\n",
    "X_helmert = patsy.dmatrix(\"~ C(group, Helmert)\")[:, 1:]\n",
    "\n",
    "# the -1 in the formula drops the intercept (aka, \"bias term\")\n",
    "X_onehot = patsy.dmatrix(\"~ C(group, [[1, 0, 0, 0], [0, 1, 0, 0], [0, 0, 1, 0], [0, 0, 0, 1]]) - 1\")[:, :]\n",
    "\n",
    "# for comparison to onehot\n",
    "X_get_dummies_nodrop = pd.get_dummies(group, drop_first = False)"
   ]
  },
  {
   "cell_type": "markdown",
   "metadata": {},
   "source": [
    "# ridge fits\n",
    "fit ridge regressions with same alpha, same random state"
   ]
  },
  {
   "cell_type": "code",
   "execution_count": 4,
   "metadata": {},
   "outputs": [],
   "source": [
    "np.random.RandomState(519083475)\n",
    "ridge_fit_treatment = Ridge(fit_intercept = True, alpha = 0.5).fit(X_treatment, y)\n",
    "ridge_fit_get_dummies_drop = Ridge(fit_intercept = True, alpha = 0.5).fit(X_get_dummies_drop, y)\n",
    "ridge_fit_helmert = Ridge(fit_intercept = True, alpha = 0.5).fit(X_helmert, y)\n",
    "ridge_fit_onehot = Ridge(fit_intercept = False, alpha = 0.5).fit(X_onehot, y)\n",
    "ridge_fit_get_dummies_nodrop = Ridge(fit_intercept = False, alpha = 0.5).fit(X_get_dummies_nodrop, y)"
   ]
  },
  {
   "cell_type": "markdown",
   "metadata": {},
   "source": [
    "## intercept and coefficients\n",
    "Different coefficients"
   ]
  },
  {
   "cell_type": "code",
   "execution_count": 5,
   "metadata": {},
   "outputs": [
    {
     "data": {
      "text/html": [
       "<div>\n",
       "<style scoped>\n",
       "    .dataframe tbody tr th:only-of-type {\n",
       "        vertical-align: middle;\n",
       "    }\n",
       "\n",
       "    .dataframe tbody tr th {\n",
       "        vertical-align: top;\n",
       "    }\n",
       "\n",
       "    .dataframe thead th {\n",
       "        text-align: right;\n",
       "    }\n",
       "</style>\n",
       "<table border=\"1\" class=\"dataframe\">\n",
       "  <thead>\n",
       "    <tr style=\"text-align: right;\">\n",
       "      <th></th>\n",
       "      <th>coef</th>\n",
       "      <th>treatment</th>\n",
       "      <th>get_dummies_drop</th>\n",
       "      <th>helmert</th>\n",
       "      <th>onehot</th>\n",
       "      <th>get_dummies_nodrop</th>\n",
       "    </tr>\n",
       "  </thead>\n",
       "  <tbody>\n",
       "    <tr>\n",
       "      <th>0</th>\n",
       "      <td>b0</td>\n",
       "      <td>0.099775</td>\n",
       "      <td>0.099775</td>\n",
       "      <td>0.052764</td>\n",
       "      <td>0.000538</td>\n",
       "      <td>0.000538</td>\n",
       "    </tr>\n",
       "    <tr>\n",
       "      <th>1</th>\n",
       "      <td>b1</td>\n",
       "      <td>0.287645</td>\n",
       "      <td>0.287645</td>\n",
       "      <td>0.081368</td>\n",
       "      <td>0.105031</td>\n",
       "      <td>0.105031</td>\n",
       "    </tr>\n",
       "    <tr>\n",
       "      <th>2</th>\n",
       "      <td>b2</td>\n",
       "      <td>-0.146806</td>\n",
       "      <td>-0.146806</td>\n",
       "      <td>-0.069849</td>\n",
       "      <td>0.292901</td>\n",
       "      <td>0.292901</td>\n",
       "    </tr>\n",
       "    <tr>\n",
       "      <th>3</th>\n",
       "      <td>b3</td>\n",
       "      <td>0.005361</td>\n",
       "      <td>0.005361</td>\n",
       "      <td>0.065514</td>\n",
       "      <td>-0.141550</td>\n",
       "      <td>-0.141550</td>\n",
       "    </tr>\n",
       "  </tbody>\n",
       "</table>\n",
       "</div>"
      ],
      "text/plain": [
       "  coef  treatment  get_dummies_drop   helmert    onehot  get_dummies_nodrop\n",
       "0   b0   0.099775          0.099775  0.052764  0.000538            0.000538\n",
       "1   b1   0.287645          0.287645  0.081368  0.105031            0.105031\n",
       "2   b2  -0.146806         -0.146806 -0.069849  0.292901            0.292901\n",
       "3   b3   0.005361          0.005361  0.065514 -0.141550           -0.141550"
      ]
     },
     "execution_count": 5,
     "metadata": {},
     "output_type": "execute_result"
    }
   ],
   "source": [
    "pd.DataFrame({\"coef\": [\"b0\", \"b1\", \"b2\", \"b3\"], \"treatment\": np.append(ridge_fit_treatment.coef_, ridge_fit_treatment.intercept_), \"get_dummies_drop\": np.append(ridge_fit_get_dummies_drop.coef_, ridge_fit_get_dummies_drop.intercept_), \"helmert\": np.append(ridge_fit_helmert.coef_, ridge_fit_helmert.intercept_), \"onehot\": ridge_fit_onehot.coef_, \"get_dummies_nodrop\": ridge_fit_get_dummies_nodrop.coef_})"
   ]
  },
  {
   "cell_type": "markdown",
   "metadata": {},
   "source": [
    "## RMSE\n",
    "Same RMSE (with rounding errors)"
   ]
  },
  {
   "cell_type": "code",
   "execution_count": 7,
   "metadata": {},
   "outputs": [
    {
     "name": "stdout",
     "output_type": "stream",
     "text": [
      "0.9128284151706533\n",
      "0.9128284151706533\n",
      "0.9128191450325455\n",
      "0.9128253870575815\n",
      "0.9128253870575815\n"
     ]
    }
   ],
   "source": [
    "for fit, X in zip([ridge_fit_treatment, ridge_fit_get_dummies_drop, ridge_fit_helmert, ridge_fit_onehot, ridge_fit_get_dummies_nodrop], [X_treatment, X_get_dummies_drop, X_helmert, X_onehot, X_get_dummies_nodrop]):\n",
    "    print(mean_squared_error(y_true = y, y_pred = fit.predict(X), squared = False))"
   ]
  }
 ],
 "metadata": {
  "kernelspec": {
   "display_name": "Python 3",
   "language": "python",
   "name": "python3"
  },
  "language_info": {
   "codemirror_mode": {
    "name": "ipython",
    "version": 3
   },
   "file_extension": ".py",
   "mimetype": "text/x-python",
   "name": "python",
   "nbconvert_exporter": "python",
   "pygments_lexer": "ipython3",
   "version": "3.7.6"
  },
  "toc": {
   "base_numbering": 1,
   "nav_menu": {},
   "number_sections": true,
   "sideBar": true,
   "skip_h1_title": false,
   "title_cell": "Table of Contents",
   "title_sidebar": "Contents",
   "toc_cell": false,
   "toc_position": {},
   "toc_section_display": true,
   "toc_window_display": false
  },
  "varInspector": {
   "cols": {
    "lenName": 16,
    "lenType": 16,
    "lenVar": 40
   },
   "kernels_config": {
    "python": {
     "delete_cmd_postfix": "",
     "delete_cmd_prefix": "del ",
     "library": "var_list.py",
     "varRefreshCmd": "print(var_dic_list())"
    },
    "r": {
     "delete_cmd_postfix": ") ",
     "delete_cmd_prefix": "rm(",
     "library": "var_list.r",
     "varRefreshCmd": "cat(var_dic_list()) "
    }
   },
   "types_to_exclude": [
    "module",
    "function",
    "builtin_function_or_method",
    "instance",
    "_Feature"
   ],
   "window_display": false
  }
 },
 "nbformat": 4,
 "nbformat_minor": 4
}
