{
 "cells": [
  {
   "cell_type": "markdown",
   "metadata": {},
   "source": [
    "# Main idea\n",
    "The z-test leads to more false positive errors than the welch t-test when the variances and the sample sizes are different (even if the total sample size is huge)."
   ]
  },
  {
   "cell_type": "markdown",
   "metadata": {},
   "source": [
    "# Packages"
   ]
  },
  {
   "cell_type": "code",
   "execution_count": 92,
   "metadata": {},
   "outputs": [],
   "source": [
    "import numpy as np\n",
    "import pandas as pd\n",
    "import random\n",
    "import statsmodels.api as sm\n",
    "import matplotlib.pyplot as plt"
   ]
  },
  {
   "cell_type": "markdown",
   "metadata": {},
   "source": [
    "# Parameters\n",
    "2 population means, 2 population standard deviations, 2 sample sizes"
   ]
  },
  {
   "cell_type": "code",
   "execution_count": 93,
   "metadata": {},
   "outputs": [
    {
     "data": {
      "text/plain": [
       "'m1 = 0, m2 = 0 (no difference), s1 = 1, s2 = 2 (2x standard deviation), n1 = 67000, n2 = 33000 (1/2 group size)'"
      ]
     },
     "execution_count": 93,
     "metadata": {},
     "output_type": "execute_result"
    }
   ],
   "source": [
    "# huge total sample size, but very different sample sizes and variances \n",
    "m1, m2, s1, s2, n1, n2 = 0, 0, 1, 2, 67000, 33000\n",
    "\n",
    "# print\n",
    "\"m1 = {}, m2 = {} (no difference), s1 = {}, s2 = {} (2x standard deviation), n1 = {}, n2 = {} (1/2 group size)\".format(str(m1), str(m2), str(s1), str(s2), str(n1), str(n2))"
   ]
  },
  {
   "cell_type": "markdown",
   "metadata": {},
   "source": [
    "# Simple examples"
   ]
  },
  {
   "cell_type": "markdown",
   "metadata": {},
   "source": [
    "## Sample data"
   ]
  },
  {
   "cell_type": "code",
   "execution_count": 94,
   "metadata": {},
   "outputs": [],
   "source": [
    "group1 = np.random.normal(loc = m1, scale = s1, size = n1)\n",
    "group2 = np.random.normal(loc = m2, scale = s2, size = n2)"
   ]
  },
  {
   "cell_type": "markdown",
   "metadata": {},
   "source": [
    "## Tests"
   ]
  },
  {
   "cell_type": "markdown",
   "metadata": {},
   "source": [
    "### z-test (assumes normal distribution, equal variances)"
   ]
  },
  {
   "cell_type": "code",
   "execution_count": 95,
   "metadata": {},
   "outputs": [
    {
     "data": {
      "text/plain": [
       "'z = 1.0302746257583522, p = 0.30288110691878456'"
      ]
     },
     "execution_count": 95,
     "metadata": {},
     "output_type": "execute_result"
    }
   ],
   "source": [
    "z, p = sm.stats.ztest(group1, group2, value = 0, alternative = \"two-sided\", usevar = \"pooled\")\n",
    "\n",
    "# result\n",
    "\"z = {}, p = {}\".format(str(z), str(p))"
   ]
  },
  {
   "cell_type": "markdown",
   "metadata": {},
   "source": [
    "### Welch t-test"
   ]
  },
  {
   "cell_type": "code",
   "execution_count": 96,
   "metadata": {},
   "outputs": [
    {
     "data": {
      "text/plain": [
       "'t(41397.31827739589) = 0.8386111039054838, p = 0.40169241969093294'"
      ]
     },
     "execution_count": 96,
     "metadata": {},
     "output_type": "execute_result"
    }
   ],
   "source": [
    "t, p, df = sm.stats.ttest_ind(group1, group2, value = 0, alternative = \"two-sided\", usevar = \"unequal\")\n",
    "\n",
    "# result\n",
    "\"t({}) = {}, p = {}\".format(str(df), str(t), str(p))"
   ]
  },
  {
   "cell_type": "markdown",
   "metadata": {},
   "source": [
    "# Simulation"
   ]
  },
  {
   "cell_type": "code",
   "execution_count": 97,
   "metadata": {},
   "outputs": [],
   "source": [
    "# containers\n",
    "zs, ts, pzs, pts, dfs = [], [], [], [], []\n",
    "\n",
    "for _ in range(10000):\n",
    "    # two groups\n",
    "    group1 = np.random.normal(loc = m1, scale = s1, size = n1)\n",
    "    group2 = np.random.normal(loc = m2, scale = s2, size = n2)\n",
    "    \n",
    "    # z-test\n",
    "    z, pz = sm.stats.ztest(group1, group2, value = 0, alternative = \"two-sided\", usevar = \"pooled\")\n",
    "    \n",
    "    # welch t-test\n",
    "    t, pt, df = sm.stats.ttest_ind(group1, group2, value = 0, alternative = \"two-sided\", usevar = \"unequal\")\n",
    "    \n",
    "    # append containers\n",
    "    zs.append(z)\n",
    "    ts.append(t)\n",
    "    pzs.append(pz)\n",
    "    pts.append(pt)\n",
    "    dfs.append(df)"
   ]
  },
  {
   "cell_type": "markdown",
   "metadata": {},
   "source": [
    "# False positive error rates"
   ]
  },
  {
   "cell_type": "markdown",
   "metadata": {},
   "source": [
    "## z-test"
   ]
  },
  {
   "cell_type": "code",
   "execution_count": 98,
   "metadata": {},
   "outputs": [
    {
     "data": {
      "text/plain": [
       "'The z-test false positive rate was 10.9% (should be 5%).'"
      ]
     },
     "execution_count": 98,
     "metadata": {},
     "output_type": "execute_result"
    }
   ],
   "source": [
    "\"The z-test false positive rate was {}% (should be 5%).\".format(str(np.mean(np.array(pzs) < 0.05) * 100))"
   ]
  },
  {
   "cell_type": "markdown",
   "metadata": {},
   "source": [
    "## welch t-test"
   ]
  },
  {
   "cell_type": "code",
   "execution_count": 99,
   "metadata": {},
   "outputs": [
    {
     "data": {
      "text/plain": [
       "'The Welch t-test false positive rate was 4.72% (should be 5%).'"
      ]
     },
     "execution_count": 99,
     "metadata": {},
     "output_type": "execute_result"
    }
   ],
   "source": [
    "\"The Welch t-test false positive rate was {}% (should be 5%).\".format(str(np.mean(np.array(pts) < 0.05) * 100))"
   ]
  },
  {
   "cell_type": "markdown",
   "metadata": {},
   "source": [
    "## Barplot"
   ]
  },
  {
   "cell_type": "code",
   "execution_count": 100,
   "metadata": {},
   "outputs": [
    {
     "data": {
      "image/png": "[encoded data removed]",
      "text/plain": [
       "<Figure size 864x432 with 1 Axes>"
      ]
     },
     "metadata": {
      "needs_background": "light"
     },
     "output_type": "display_data"
    }
   ],
   "source": [
    "# figure size\n",
    "plt.figure(figsize = (12, 6))\n",
    "\n",
    "# bar plot\n",
    "plt.bar([\"z-test\", \"Welch t-test\"], [np.mean(np.array(pzs) < 0.05), np.mean(np.array(pts) < 0.05)])\n",
    "\n",
    "# nominal error rate = 5%\n",
    "plt.hlines(y = 0.05, xmin = -0.5, xmax = 1.5, linestyles = \"dotted\")\n",
    "\n",
    "# titles\n",
    "plt.title(\"Z-test makes more false positive errors when variances and sample sizes are difefrent\");"
   ]
  }
 ],
 "metadata": {
  "gist": {
   "data": {
    "description": "Untitled.ipynb",
    "public": false
   },
   "id": ""
  },
  "kernelspec": {
   "display_name": "Python 3",
   "language": "python",
   "name": "python3"
  },
  "language_info": {
   "codemirror_mode": {
    "name": "ipython",
    "version": 3
   },
   "file_extension": ".py",
   "mimetype": "text/x-python",
   "name": "python",
   "nbconvert_exporter": "python",
   "pygments_lexer": "ipython3",
   "version": "3.7.6"
  },
  "toc": {
   "base_numbering": 1,
   "nav_menu": {},
   "number_sections": true,
   "sideBar": true,
   "skip_h1_title": false,
   "title_cell": "Table of Contents",
   "title_sidebar": "Contents",
   "toc_cell": false,
   "toc_position": {},
   "toc_section_display": true,
   "toc_window_display": false
  },
  "varInspector": {
   "cols": {
    "lenName": 16,
    "lenType": 16,
    "lenVar": 40
   },
   "kernels_config": {
    "python": {
     "delete_cmd_postfix": "",
     "delete_cmd_prefix": "del ",
     "library": "var_list.py",
     "varRefreshCmd": "print(var_dic_list())"
    },
    "r": {
     "delete_cmd_postfix": ") ",
     "delete_cmd_prefix": "rm(",
     "library": "var_list.r",
     "varRefreshCmd": "cat(var_dic_list()) "
    }
   },
   "types_to_exclude": [
    "module",
    "function",
    "builtin_function_or_method",
    "instance",
    "_Feature"
   ],
   "window_display": false
  }
 },
 "nbformat": 4,
 "nbformat_minor": 4
}
