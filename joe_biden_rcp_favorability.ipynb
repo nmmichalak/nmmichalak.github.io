{
 "cells": [
  {
   "cell_type": "markdown",
   "metadata": {},
   "source": [
    "# import packages"
   ]
  },
  {
   "cell_type": "code",
   "execution_count": 662,
   "metadata": {},
   "outputs": [],
   "source": [
    "import numpy as np\n",
    "import pandas as pd\n",
    "import matplotlib as mpl\n",
    "import matplotlib.pyplot as plt\n",
    "import seaborn as sns\n",
    "from pygam import s, l, f, te\n",
    "from pygam import LinearGAM as linear_gam"
   ]
  },
  {
   "cell_type": "markdown",
   "metadata": {},
   "source": [
    "# set seaborn look"
   ]
  },
  {
   "cell_type": "code",
   "execution_count": 663,
   "metadata": {},
   "outputs": [],
   "source": [
    "sns.set(context = \"notebook\", style = \"darkgrid\", palette = \"colorblind\")"
   ]
  },
  {
   "cell_type": "markdown",
   "metadata": {},
   "source": [
    "# read tabular data from html"
   ]
  },
  {
   "cell_type": "code",
   "execution_count": 664,
   "metadata": {},
   "outputs": [],
   "source": [
    "biden_favorability_recent, biden_favorability_full = pd.read_html(\"https://www.realclearpolitics.com/epolls/other/joe_biden_favorableunfavorable-6677.html\")"
   ]
  },
  {
   "cell_type": "markdown",
   "metadata": {},
   "source": [
    "# rename columns"
   ]
  },
  {
   "cell_type": "code",
   "execution_count": 665,
   "metadata": {},
   "outputs": [],
   "source": [
    "biden_favorability_full.columns = [\"poll\", \"poll_period\", \"sample_size_population\", \"favorable_pct\", \"unfavorable_pct\", \"net_favorable_pct\"]"
   ]
  },
  {
   "cell_type": "markdown",
   "metadata": {},
   "source": [
    "# remove rcp average row"
   ]
  },
  {
   "cell_type": "code",
   "execution_count": 666,
   "metadata": {},
   "outputs": [],
   "source": [
    "biden_favorability_full = biden_favorability_full.loc[biden_favorability_full[\"poll\"] != \"RCP\\xa0Average\", ]"
   ]
  },
  {
   "cell_type": "markdown",
   "metadata": {},
   "source": [
    "# remove \"Tie\" from net favorability variable"
   ]
  },
  {
   "cell_type": "code",
   "execution_count": 667,
   "metadata": {},
   "outputs": [],
   "source": [
    "biden_favorability_full[\"net_favorable_pct\"] = biden_favorability_full[\"net_favorable_pct\"].astype(str).str.replace(\"Tie\", \"0\")"
   ]
  },
  {
   "cell_type": "markdown",
   "metadata": {},
   "source": [
    "# parse dates"
   ]
  },
  {
   "cell_type": "code",
   "execution_count": 668,
   "metadata": {},
   "outputs": [],
   "source": [
    "biden_favorability_full[[\"start_date\", \"end_date\"]] = biden_favorability_full[\"poll_period\"].str.split(\" - \").apply(pd.Series)"
   ]
  },
  {
   "cell_type": "markdown",
   "metadata": {},
   "source": [
    "# parse months and days from date strings"
   ]
  },
  {
   "cell_type": "code",
   "execution_count": 669,
   "metadata": {},
   "outputs": [],
   "source": [
    "# start month and day\n",
    "biden_favorability_full[[\"start_month\", \"start_day\"]] = biden_favorability_full[\"start_date\"].str.split(\"/\").apply(pd.Series)\n",
    "\n",
    "# end month and day\n",
    "biden_favorability_full[[\"end_month\", \"end_day\"]] = biden_favorability_full[\"end_date\"].str.split(\"/\").apply(pd.Series)"
   ]
  },
  {
   "cell_type": "markdown",
   "metadata": {},
   "source": [
    "# parse sample size and polling population"
   ]
  },
  {
   "cell_type": "code",
   "execution_count": 670,
   "metadata": {},
   "outputs": [],
   "source": [
    "biden_favorability_full[[\"sample_size\", \"polling_population\"]] = biden_favorability_full[\"sample_size_population\"].str.split(\" \").apply(pd.Series)\n",
    "\n",
    "# replace \",\" in sample size\n",
    "biden_favorability_full[\"sample_size\"] = biden_favorability_full[\"sample_size\"].astype(str).str.replace(\",\", \"\")"
   ]
  },
  {
   "cell_type": "markdown",
   "metadata": {},
   "source": [
    "# cumulative sum of december polling start and end dates"
   ]
  },
  {
   "cell_type": "code",
   "execution_count": 671,
   "metadata": {},
   "outputs": [],
   "source": [
    "biden_favorability_full[\"start_december_cumsum\"] = (biden_favorability_full[\"start_month\"] == \"12\").cumsum()\n",
    "biden_favorability_full[\"end_december_cumsum\"] = (biden_favorability_full[\"end_month\"] == \"12\").cumsum()"
   ]
  },
  {
   "cell_type": "markdown",
   "metadata": {},
   "source": [
    "# use cumulative sum to determine year\n",
    "This is the dumbest solution in the notebook"
   ]
  },
  {
   "cell_type": "code",
   "execution_count": 672,
   "metadata": {},
   "outputs": [],
   "source": [
    "# recode cumulative sum integer to year string\n",
    "def cumsum2year(x):\n",
    "    if x == 0:\n",
    "        return \"2020\"\n",
    "    elif x > 7 and x < 10:\n",
    "        return \"2019\"\n",
    "    else:\n",
    "        return \"2018\"\n",
    "\n",
    "# start adn end year\n",
    "biden_favorability_full[\"start_year\"] = biden_favorability_full[\"start_december_cumsum\"].apply(cumsum2year)\n",
    "biden_favorability_full[\"end_year\"] = biden_favorability_full[\"start_december_cumsum\"].apply(cumsum2year)"
   ]
  },
  {
   "cell_type": "markdown",
   "metadata": {},
   "source": [
    "# create start and end dates and their midpoint"
   ]
  },
  {
   "cell_type": "code",
   "execution_count": 673,
   "metadata": {},
   "outputs": [],
   "source": [
    "biden_favorability_full[\"start_date\"] = pd.to_datetime(biden_favorability_full[[\"start_year\", \"start_month\", \"start_day\"]].apply(lambda row: \"/\".join(row.values.astype(str)), axis = 1))\n",
    "biden_favorability_full[\"end_date\"] = pd.to_datetime(biden_favorability_full[[\"end_year\", \"end_month\", \"end_day\"]].apply(lambda row: \"/\".join(row.values.astype(str)), axis = 1))\n",
    "biden_favorability_full[\"median_date\"] = biden_favorability_full[\"start_date\"] + (biden_favorability_full[\"end_date\"] - biden_favorability_full[\"start_date\"]) / 2"
   ]
  },
  {
   "cell_type": "markdown",
   "metadata": {},
   "source": [
    "# change data types"
   ]
  },
  {
   "cell_type": "code",
   "execution_count": 674,
   "metadata": {},
   "outputs": [],
   "source": [
    "biden_favorability_full[[\"net_favorable_pct\", \"sample_size\", \"start_year\", \"start_month\", \"start_day\", \"end_year\", \"end_month\", \"end_day\"]] = biden_favorability_full[[\"net_favorable_pct\", \"sample_size\", \"start_year\", \"start_month\", \"start_day\", \"end_year\", \"end_month\", \"end_day\"]].astype(int)"
   ]
  },
  {
   "cell_type": "markdown",
   "metadata": {},
   "source": [
    "# reset index to median date"
   ]
  },
  {
   "cell_type": "code",
   "execution_count": 675,
   "metadata": {},
   "outputs": [
    {
     "data": {
      "text/html": [
       "<div>\n",
       "<style scoped>\n",
       "    .dataframe tbody tr th:only-of-type {\n",
       "        vertical-align: middle;\n",
       "    }\n",
       "\n",
       "    .dataframe tbody tr th {\n",
       "        vertical-align: top;\n",
       "    }\n",
       "\n",
       "    .dataframe thead th {\n",
       "        text-align: right;\n",
       "    }\n",
       "</style>\n",
       "<table border=\"1\" class=\"dataframe\">\n",
       "  <thead>\n",
       "    <tr style=\"text-align: right;\">\n",
       "      <th></th>\n",
       "      <th>poll</th>\n",
       "      <th>poll_period</th>\n",
       "      <th>sample_size_population</th>\n",
       "      <th>favorable_pct</th>\n",
       "      <th>unfavorable_pct</th>\n",
       "      <th>net_favorable_pct</th>\n",
       "      <th>start_date</th>\n",
       "      <th>end_date</th>\n",
       "      <th>start_month</th>\n",
       "      <th>start_day</th>\n",
       "      <th>end_month</th>\n",
       "      <th>end_day</th>\n",
       "      <th>sample_size</th>\n",
       "      <th>polling_population</th>\n",
       "      <th>start_december_cumsum</th>\n",
       "      <th>end_december_cumsum</th>\n",
       "      <th>start_year</th>\n",
       "      <th>end_year</th>\n",
       "      <th>median_date</th>\n",
       "    </tr>\n",
       "  </thead>\n",
       "  <tbody>\n",
       "    <tr>\n",
       "      <td>0</td>\n",
       "      <td>Harvard-HarrisHarris</td>\n",
       "      <td>8/22 - 8/23</td>\n",
       "      <td>1330 RV</td>\n",
       "      <td>51.0</td>\n",
       "      <td>35.0</td>\n",
       "      <td>16</td>\n",
       "      <td>2018-08-22</td>\n",
       "      <td>2018-08-23</td>\n",
       "      <td>8</td>\n",
       "      <td>22</td>\n",
       "      <td>8</td>\n",
       "      <td>23</td>\n",
       "      <td>1330</td>\n",
       "      <td>RV</td>\n",
       "      <td>10</td>\n",
       "      <td>10</td>\n",
       "      <td>2018</td>\n",
       "      <td>2018</td>\n",
       "      <td>2018-08-22 12:00:00</td>\n",
       "    </tr>\n",
       "    <tr>\n",
       "      <td>1</td>\n",
       "      <td>CNNCNN</td>\n",
       "      <td>9/6 - 9/9</td>\n",
       "      <td>923 RV</td>\n",
       "      <td>61.0</td>\n",
       "      <td>28.0</td>\n",
       "      <td>33</td>\n",
       "      <td>2018-09-06</td>\n",
       "      <td>2018-09-09</td>\n",
       "      <td>9</td>\n",
       "      <td>6</td>\n",
       "      <td>9</td>\n",
       "      <td>9</td>\n",
       "      <td>923</td>\n",
       "      <td>RV</td>\n",
       "      <td>10</td>\n",
       "      <td>10</td>\n",
       "      <td>2018</td>\n",
       "      <td>2018</td>\n",
       "      <td>2018-09-07 12:00:00</td>\n",
       "    </tr>\n",
       "    <tr>\n",
       "      <td>2</td>\n",
       "      <td>Harvard-HarrisHarris</td>\n",
       "      <td>9/26 - 9/27</td>\n",
       "      <td>1228 RV</td>\n",
       "      <td>55.0</td>\n",
       "      <td>33.0</td>\n",
       "      <td>22</td>\n",
       "      <td>2018-09-26</td>\n",
       "      <td>2018-09-27</td>\n",
       "      <td>9</td>\n",
       "      <td>26</td>\n",
       "      <td>9</td>\n",
       "      <td>27</td>\n",
       "      <td>1228</td>\n",
       "      <td>RV</td>\n",
       "      <td>10</td>\n",
       "      <td>10</td>\n",
       "      <td>2018</td>\n",
       "      <td>2018</td>\n",
       "      <td>2018-09-26 12:00:00</td>\n",
       "    </tr>\n",
       "    <tr>\n",
       "      <td>3</td>\n",
       "      <td>Harvard-HarrisHarris</td>\n",
       "      <td>10/26 - 10/28</td>\n",
       "      <td>1835 RV</td>\n",
       "      <td>52.0</td>\n",
       "      <td>35.0</td>\n",
       "      <td>17</td>\n",
       "      <td>2018-10-26</td>\n",
       "      <td>2018-10-28</td>\n",
       "      <td>10</td>\n",
       "      <td>26</td>\n",
       "      <td>10</td>\n",
       "      <td>28</td>\n",
       "      <td>1835</td>\n",
       "      <td>RV</td>\n",
       "      <td>10</td>\n",
       "      <td>10</td>\n",
       "      <td>2018</td>\n",
       "      <td>2018</td>\n",
       "      <td>2018-10-27 00:00:00</td>\n",
       "    </tr>\n",
       "    <tr>\n",
       "      <td>4</td>\n",
       "      <td>Harvard-HarrisHarris</td>\n",
       "      <td>11/25 - 11/26</td>\n",
       "      <td>1407 RV</td>\n",
       "      <td>54.0</td>\n",
       "      <td>31.0</td>\n",
       "      <td>23</td>\n",
       "      <td>2018-11-25</td>\n",
       "      <td>2018-11-26</td>\n",
       "      <td>11</td>\n",
       "      <td>25</td>\n",
       "      <td>11</td>\n",
       "      <td>26</td>\n",
       "      <td>1407</td>\n",
       "      <td>RV</td>\n",
       "      <td>10</td>\n",
       "      <td>10</td>\n",
       "      <td>2018</td>\n",
       "      <td>2018</td>\n",
       "      <td>2018-11-25 12:00:00</td>\n",
       "    </tr>\n",
       "    <tr>\n",
       "      <td>5</td>\n",
       "      <td>MonmouthMonmouth</td>\n",
       "      <td>12/4 - 12/8</td>\n",
       "      <td>838 RV</td>\n",
       "      <td>43.0</td>\n",
       "      <td>50.0</td>\n",
       "      <td>-7</td>\n",
       "      <td>2018-12-04</td>\n",
       "      <td>2018-12-08</td>\n",
       "      <td>12</td>\n",
       "      <td>4</td>\n",
       "      <td>12</td>\n",
       "      <td>8</td>\n",
       "      <td>838</td>\n",
       "      <td>RV</td>\n",
       "      <td>7</td>\n",
       "      <td>7</td>\n",
       "      <td>2018</td>\n",
       "      <td>2018</td>\n",
       "      <td>2018-12-06 00:00:00</td>\n",
       "    </tr>\n",
       "    <tr>\n",
       "      <td>6</td>\n",
       "      <td>QuinnipiacQuinnipiac</td>\n",
       "      <td>12/4 - 12/9</td>\n",
       "      <td>1553 RV</td>\n",
       "      <td>44.0</td>\n",
       "      <td>47.0</td>\n",
       "      <td>-3</td>\n",
       "      <td>2018-12-04</td>\n",
       "      <td>2018-12-09</td>\n",
       "      <td>12</td>\n",
       "      <td>4</td>\n",
       "      <td>12</td>\n",
       "      <td>9</td>\n",
       "      <td>1553</td>\n",
       "      <td>RV</td>\n",
       "      <td>6</td>\n",
       "      <td>6</td>\n",
       "      <td>2018</td>\n",
       "      <td>2018</td>\n",
       "      <td>2018-12-06 12:00:00</td>\n",
       "    </tr>\n",
       "    <tr>\n",
       "      <td>7</td>\n",
       "      <td>Economist/YouGovYouGov</td>\n",
       "      <td>12/7 - 12/10</td>\n",
       "      <td>1209 RV</td>\n",
       "      <td>42.0</td>\n",
       "      <td>52.0</td>\n",
       "      <td>-10</td>\n",
       "      <td>2018-12-07</td>\n",
       "      <td>2018-12-10</td>\n",
       "      <td>12</td>\n",
       "      <td>7</td>\n",
       "      <td>12</td>\n",
       "      <td>10</td>\n",
       "      <td>1209</td>\n",
       "      <td>RV</td>\n",
       "      <td>5</td>\n",
       "      <td>5</td>\n",
       "      <td>2018</td>\n",
       "      <td>2018</td>\n",
       "      <td>2018-12-08 12:00:00</td>\n",
       "    </tr>\n",
       "    <tr>\n",
       "      <td>8</td>\n",
       "      <td>QuinnipiacQuinnipiac</td>\n",
       "      <td>12/12 - 12/17</td>\n",
       "      <td>1147 RV</td>\n",
       "      <td>53.0</td>\n",
       "      <td>33.0</td>\n",
       "      <td>20</td>\n",
       "      <td>2018-12-12</td>\n",
       "      <td>2018-12-17</td>\n",
       "      <td>12</td>\n",
       "      <td>12</td>\n",
       "      <td>12</td>\n",
       "      <td>17</td>\n",
       "      <td>1147</td>\n",
       "      <td>RV</td>\n",
       "      <td>10</td>\n",
       "      <td>10</td>\n",
       "      <td>2018</td>\n",
       "      <td>2018</td>\n",
       "      <td>2018-12-14 12:00:00</td>\n",
       "    </tr>\n",
       "    <tr>\n",
       "      <td>9</td>\n",
       "      <td>Economist/YouGovYouGov</td>\n",
       "      <td>12/14 - 12/17</td>\n",
       "      <td>1164 RV</td>\n",
       "      <td>43.0</td>\n",
       "      <td>51.0</td>\n",
       "      <td>-8</td>\n",
       "      <td>2018-12-14</td>\n",
       "      <td>2018-12-17</td>\n",
       "      <td>12</td>\n",
       "      <td>14</td>\n",
       "      <td>12</td>\n",
       "      <td>17</td>\n",
       "      <td>1164</td>\n",
       "      <td>RV</td>\n",
       "      <td>4</td>\n",
       "      <td>4</td>\n",
       "      <td>2018</td>\n",
       "      <td>2018</td>\n",
       "      <td>2018-12-15 12:00:00</td>\n",
       "    </tr>\n",
       "  </tbody>\n",
       "</table>\n",
       "</div>"
      ],
      "text/plain": [
       "                     poll    poll_period sample_size_population  \\\n",
       "0    Harvard-HarrisHarris    8/22 - 8/23                1330 RV   \n",
       "1                  CNNCNN      9/6 - 9/9                 923 RV   \n",
       "2    Harvard-HarrisHarris    9/26 - 9/27                1228 RV   \n",
       "3    Harvard-HarrisHarris  10/26 - 10/28                1835 RV   \n",
       "4    Harvard-HarrisHarris  11/25 - 11/26                1407 RV   \n",
       "5        MonmouthMonmouth    12/4 - 12/8                 838 RV   \n",
       "6    QuinnipiacQuinnipiac    12/4 - 12/9                1553 RV   \n",
       "7  Economist/YouGovYouGov   12/7 - 12/10                1209 RV   \n",
       "8    QuinnipiacQuinnipiac  12/12 - 12/17                1147 RV   \n",
       "9  Economist/YouGovYouGov  12/14 - 12/17                1164 RV   \n",
       "\n",
       "   favorable_pct  unfavorable_pct  net_favorable_pct start_date   end_date  \\\n",
       "0           51.0             35.0                 16 2018-08-22 2018-08-23   \n",
       "1           61.0             28.0                 33 2018-09-06 2018-09-09   \n",
       "2           55.0             33.0                 22 2018-09-26 2018-09-27   \n",
       "3           52.0             35.0                 17 2018-10-26 2018-10-28   \n",
       "4           54.0             31.0                 23 2018-11-25 2018-11-26   \n",
       "5           43.0             50.0                 -7 2018-12-04 2018-12-08   \n",
       "6           44.0             47.0                 -3 2018-12-04 2018-12-09   \n",
       "7           42.0             52.0                -10 2018-12-07 2018-12-10   \n",
       "8           53.0             33.0                 20 2018-12-12 2018-12-17   \n",
       "9           43.0             51.0                 -8 2018-12-14 2018-12-17   \n",
       "\n",
       "   start_month  start_day  end_month  end_day  sample_size polling_population  \\\n",
       "0            8         22          8       23         1330                 RV   \n",
       "1            9          6          9        9          923                 RV   \n",
       "2            9         26          9       27         1228                 RV   \n",
       "3           10         26         10       28         1835                 RV   \n",
       "4           11         25         11       26         1407                 RV   \n",
       "5           12          4         12        8          838                 RV   \n",
       "6           12          4         12        9         1553                 RV   \n",
       "7           12          7         12       10         1209                 RV   \n",
       "8           12         12         12       17         1147                 RV   \n",
       "9           12         14         12       17         1164                 RV   \n",
       "\n",
       "   start_december_cumsum  end_december_cumsum  start_year  end_year  \\\n",
       "0                     10                   10        2018      2018   \n",
       "1                     10                   10        2018      2018   \n",
       "2                     10                   10        2018      2018   \n",
       "3                     10                   10        2018      2018   \n",
       "4                     10                   10        2018      2018   \n",
       "5                      7                    7        2018      2018   \n",
       "6                      6                    6        2018      2018   \n",
       "7                      5                    5        2018      2018   \n",
       "8                     10                   10        2018      2018   \n",
       "9                      4                    4        2018      2018   \n",
       "\n",
       "          median_date  \n",
       "0 2018-08-22 12:00:00  \n",
       "1 2018-09-07 12:00:00  \n",
       "2 2018-09-26 12:00:00  \n",
       "3 2018-10-27 00:00:00  \n",
       "4 2018-11-25 12:00:00  \n",
       "5 2018-12-06 00:00:00  \n",
       "6 2018-12-06 12:00:00  \n",
       "7 2018-12-08 12:00:00  \n",
       "8 2018-12-14 12:00:00  \n",
       "9 2018-12-15 12:00:00  "
      ]
     },
     "execution_count": 675,
     "metadata": {},
     "output_type": "execute_result"
    }
   ],
   "source": [
    "biden_favorability_full = biden_favorability_full.sort_values(\"median_date\", ascending = True).reset_index(drop = True)\n",
    "biden_favorability_full.head(n = 10)"
   ]
  },
  {
   "cell_type": "markdown",
   "metadata": {},
   "source": [
    "# fit linear GAM"
   ]
  },
  {
   "cell_type": "code",
   "execution_count": 676,
   "metadata": {},
   "outputs": [],
   "source": [
    "# linear GAM fit\n",
    "gam_fit = linear_gam(s(0)).fit(biden_favorability_full[\"median_date\"], biden_favorability_full[\"net_favorable_pct\"], weights = biden_favorability_full[\"sample_size\"])\n",
    "\n",
    "# add predictions to data frame\n",
    "biden_favorability_full[\"net_favorable_pct_hat\"] = gam_fit.predict(biden_favorability_full[\"median_date\"])\n",
    "\n",
    "# add confidence intervals\n",
    "biden_favorability_full = (biden_favorability_full.join(pd.DataFrame(\n",
    "    gam_fit.confidence_intervals(biden_favorability_full[\"median_date\"], width = 0.95),\n",
    "    columns = [\"lower_pct_hat\", \"upper_pct_hat\"]\n",
    ")))"
   ]
  },
  {
   "cell_type": "markdown",
   "metadata": {},
   "source": [
    "# plot GAM predictions compared to 7-day rolling average"
   ]
  },
  {
   "cell_type": "code",
   "execution_count": 677,
   "metadata": {},
   "outputs": [
    {
     "data": {
      "text/plain": [
       "Text(0, 0.5, '')"
      ]
     },
     "execution_count": 677,
     "metadata": {},
     "output_type": "execute_result"
    },
    {
     "data": {
      "image/png": "[encoded data removed]",
      "text/plain": [
       "<Figure size 864x432 with 1 Axes>"
      ]
     },
     "metadata": {},
     "output_type": "display_data"
    }
   ],
   "source": [
    "# save 7-day rolling average sample size weights\n",
    "weights_7dra = biden_favorability_full[\"sample_size\"] / biden_favorability_full[\"sample_size\"].rolling(window = 7, min_periods = 2).mean()\n",
    "\n",
    "# save figure and axes objects\n",
    "figure, axes = plt.subplots(figsize = (12, 6))\n",
    "\n",
    "# scatterplot and lineplot using lowess fit above\n",
    "axes.axhline(y = 0, linestyle = \"dotted\", c = \"black\")\n",
    "sns.lineplot(x = biden_favorability_full[\"median_date\"], y = biden_favorability_full[\"net_favorable_pct\"].rolling(window = 7, min_periods = 2).mean() * weights_7dra, label = \"7-day Rolling Average\", linewidth = 3)\n",
    "sns.lineplot(y = \"net_favorable_pct_hat\", x = \"median_date\", data = biden_favorability_full, linewidth = 3, color = \"black\")\n",
    "plt.fill_between(biden_favorability_full[\"median_date\"], biden_favorability_full[\"lower_pct_hat\"], biden_favorability_full[\"upper_pct_hat\"], color = \"black\", alpha = 0.20)\n",
    "sns.scatterplot(x = \"median_date\", y = \"net_favorable_pct\", data = biden_favorability_full, color = \"black\", size = \"sample_size\", alpha = 0.50)\n",
    "\n",
    "# set x-axis limits\n",
    "axes.set_xlim(biden_favorability_full[\"median_date\"].min() - np.timedelta64(1, \"W\"), biden_favorability_full[\"median_date\"].max() + np.timedelta64(1, \"W\"))\n",
    "\n",
    "# set y-axis label format at percentage %\n",
    "axes.yaxis.set_major_formatter(mpl.ticker.PercentFormatter())\n",
    "\n",
    "# set titles\n",
    "axes.set_title(\"Joe Biden Net Favorability (Currently {}%)\".format(biden_favorability_full[\"net_favorable_pct_hat\"][biden_favorability_full.end_date == biden_favorability_full.end_date.max()].round(0).squeeze()))\n",
    "axes.set_xlabel(xlabel = \"Median Date\")\n",
    "axes.set_ylabel(ylabel = None)"
   ]
  }
 ],
 "metadata": {
  "kernelspec": {
   "display_name": "Python 3",
   "language": "python",
   "name": "python3"
  },
  "language_info": {
   "codemirror_mode": {
    "name": "ipython",
    "version": 3
   },
   "file_extension": ".py",
   "mimetype": "text/x-python",
   "name": "python",
   "nbconvert_exporter": "python",
   "pygments_lexer": "ipython3",
   "version": "3.7.4"
  }
 },
 "nbformat": 4,
 "nbformat_minor": 4
}
